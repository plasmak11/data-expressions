{
 "cells": [
  {
   "cell_type": "markdown",
   "metadata": {},
   "source": [
    "# Bar Chart\n",
    "\n",
    "Bar chart is the bread and butter of data visualization. You can basically meet 90% of business-relevant metrics with bar charts. "
   ]
  },
  {
   "cell_type": "markdown",
   "metadata": {},
   "source": [
    "## Explore the data\n",
    "\n",
    "Polars is my favorite dataframe library. Let's try to make a fun bar chart using a boring dataset. "
   ]
  },
  {
   "cell_type": "code",
   "execution_count": 14,
   "metadata": {},
   "outputs": [
    {
     "data": {
      "text/plain": [
       "'https://cdn.jsdelivr.net/npm/vega-datasets@v1.29.0/data/disasters.csv'"
      ]
     },
     "execution_count": 14,
     "metadata": {},
     "output_type": "execute_result"
    }
   ],
   "source": [
    "from vega_datasets import data\n",
    "import polars as pl\n",
    "\n",
    "data.disasters.url"
   ]
  },
  {
   "cell_type": "markdown",
   "metadata": {},
   "source": [
    "## "
   ]
  },
  {
   "cell_type": "code",
   "execution_count": 13,
   "metadata": {},
   "outputs": [
    {
     "data": {
      "text/plain": [
       "<vega_datasets.core.Dataset at 0x7f1f9ed03280>"
      ]
     },
     "execution_count": 13,
     "metadata": {},
     "output_type": "execute_result"
    }
   ],
   "source": []
  },
  {
   "cell_type": "code",
   "execution_count": 7,
   "metadata": {},
   "outputs": [],
   "source": [
    "df = pl.read_csv(source)"
   ]
  },
  {
   "cell_type": "code",
   "execution_count": 12,
   "metadata": {},
   "outputs": [
    {
     "data": {
      "text/html": [
       "<div><style>\n",
       ".dataframe > thead > tr > th,\n",
       ".dataframe > tbody > tr > td {\n",
       "  text-align: right;\n",
       "}\n",
       "</style>\n",
       "<small>shape: (803, 3)</small><table border=\"1\" class=\"dataframe\"><thead><tr><th>Entity</th><th>Year</th><th>Deaths</th></tr><tr><td>str</td><td>i64</td><td>i64</td></tr></thead><tbody><tr><td>&quot;All natural di…</td><td>1900</td><td>1267360</td></tr><tr><td>&quot;All natural di…</td><td>1901</td><td>200018</td></tr><tr><td>&quot;All natural di…</td><td>1902</td><td>46037</td></tr><tr><td>&quot;All natural di…</td><td>1903</td><td>6506</td></tr><tr><td>&quot;All natural di…</td><td>1905</td><td>22758</td></tr><tr><td>&quot;All natural di…</td><td>1906</td><td>42970</td></tr><tr><td>&quot;All natural di…</td><td>1907</td><td>1325641</td></tr><tr><td>&quot;All natural di…</td><td>1908</td><td>75033</td></tr><tr><td>&quot;All natural di…</td><td>1909</td><td>1511524</td></tr><tr><td>&quot;All natural di…</td><td>1910</td><td>148233</td></tr><tr><td>&quot;All natural di…</td><td>1911</td><td>102408</td></tr><tr><td>&quot;All natural di…</td><td>1912</td><td>52093</td></tr><tr><td>&hellip;</td><td>&hellip;</td><td>&hellip;</td></tr><tr><td>&quot;Wildfire&quot;</td><td>2006</td><td>13</td></tr><tr><td>&quot;Wildfire&quot;</td><td>2007</td><td>148</td></tr><tr><td>&quot;Wildfire&quot;</td><td>2008</td><td>86</td></tr><tr><td>&quot;Wildfire&quot;</td><td>2009</td><td>190</td></tr><tr><td>&quot;Wildfire&quot;</td><td>2010</td><td>166</td></tr><tr><td>&quot;Wildfire&quot;</td><td>2011</td><td>10</td></tr><tr><td>&quot;Wildfire&quot;</td><td>2012</td><td>21</td></tr><tr><td>&quot;Wildfire&quot;</td><td>2013</td><td>35</td></tr><tr><td>&quot;Wildfire&quot;</td><td>2014</td><td>16</td></tr><tr><td>&quot;Wildfire&quot;</td><td>2015</td><td>67</td></tr><tr><td>&quot;Wildfire&quot;</td><td>2016</td><td>39</td></tr><tr><td>&quot;Wildfire&quot;</td><td>2017</td><td>75</td></tr></tbody></table></div>"
      ],
      "text/plain": [
       "shape: (803, 3)\n",
       "┌───────────────────────┬──────┬─────────┐\n",
       "│ Entity                ┆ Year ┆ Deaths  │\n",
       "│ ---                   ┆ ---  ┆ ---     │\n",
       "│ str                   ┆ i64  ┆ i64     │\n",
       "╞═══════════════════════╪══════╪═════════╡\n",
       "│ All natural disasters ┆ 1900 ┆ 1267360 │\n",
       "│ All natural disasters ┆ 1901 ┆ 200018  │\n",
       "│ All natural disasters ┆ 1902 ┆ 46037   │\n",
       "│ All natural disasters ┆ 1903 ┆ 6506    │\n",
       "│ …                     ┆ …    ┆ …       │\n",
       "│ Wildfire              ┆ 2014 ┆ 16      │\n",
       "│ Wildfire              ┆ 2015 ┆ 67      │\n",
       "│ Wildfire              ┆ 2016 ┆ 39      │\n",
       "│ Wildfire              ┆ 2017 ┆ 75      │\n",
       "└───────────────────────┴──────┴─────────┘"
      ]
     },
     "execution_count": 12,
     "metadata": {},
     "output_type": "execute_result"
    }
   ],
   "source": [
    "df"
   ]
  },
  {
   "cell_type": "code",
   "execution_count": null,
   "metadata": {},
   "outputs": [],
   "source": [
    "import altair as alt\n",
    "from vega_datasets import data\n",
    "\n",
    "source = data.disasters.url\n",
    "\n",
    "alt.Chart(source).transform_filter(\n",
    "    alt.datum.Entity != 'All natural disasters'\n",
    ").mark_circle(\n",
    "    opacity=0.8,\n",
    "    stroke='black',\n",
    "    strokeWidth=1,\n",
    "    strokeOpacity=0.4\n",
    ").encode(\n",
    "    x=alt.X('Year:T', title=None, scale=alt.Scale(domain=['1899','2018'])),\n",
    "    y=alt.Y(\n",
    "        'Entity:N',\n",
    "        sort=alt.EncodingSortField(field=\"Deaths\", op=\"sum\", order='descending'),\n",
    "        title=None\n",
    "    ),\n",
    "    size=alt.Size('Deaths:Q',\n",
    "        scale=alt.Scale(range=[0, 2500]),\n",
    "        legend=alt.Legend(title='Deaths', clipHeight=30, format='s')\n",
    "    ),\n",
    "    color=alt.Color('Entity:N', legend=None),\n",
    "    tooltip=[\n",
    "        \"Entity:N\",\n",
    "        alt.Tooltip(\"Year:T\", format='%Y'),\n",
    "        alt.Tooltip(\"Deaths:Q\", format='~s')\n",
    "    ],\n",
    ").properties(\n",
    "    width=450,\n",
    "    height=320,\n",
    "    title=alt.Title(\n",
    "        text=\"Global Deaths from Natural Disasters (1900-2017)\",\n",
    "        subtitle=\"The size of the bubble represents the total death count per year, by type of disaster\",\n",
    "        anchor='start'\n",
    "    )\n",
    ").configure_axisY(\n",
    "    domain=False,\n",
    "    ticks=False,\n",
    "    offset=10\n",
    ").configure_axisX(\n",
    "    grid=False,\n",
    ").configure_view(\n",
    "    stroke=None\n",
    ")"
   ]
  }
 ],
 "metadata": {
  "kernelspec": {
   "display_name": "data-expressions-XOHyUNvQ-py3.10",
   "language": "python",
   "name": "python3"
  },
  "language_info": {
   "codemirror_mode": {
    "name": "ipython",
    "version": 3
   },
   "file_extension": ".py",
   "mimetype": "text/x-python",
   "name": "python",
   "nbconvert_exporter": "python",
   "pygments_lexer": "ipython3",
   "version": "3.10.8"
  },
  "orig_nbformat": 4
 },
 "nbformat": 4,
 "nbformat_minor": 2
}
