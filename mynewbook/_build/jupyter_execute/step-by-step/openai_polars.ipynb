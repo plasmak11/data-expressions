{
 "cells": [
  {
   "cell_type": "code",
   "execution_count": 1,
   "metadata": {},
   "outputs": [],
   "source": [
    "import pyarrow.parquet as pq\n",
    "import pyarrow as pa\n",
    "from tqdm import tqdm\n",
    "import openai\n",
    "import os\n",
    "\n",
    "openai.api_key = os.environ[\"OPENAI_KEY\"]\n",
    "\n",
    "\n",
    "def get_openai_response(prompt_text, text):\n",
    "    response = openai.ChatCompletion.create(\n",
    "        model=\"gpt-3.5-turbo-16k-0613\",\n",
    "        messages=[{\"role\": \"user\", \n",
    "                   \"content\": f\"{prompt_text}: {text}\"}],\n",
    "        temperature=0,\n",
    "        max_tokens=500,\n",
    "        top_p=1.0,\n",
    "        frequency_penalty=0.0,\n",
    "        presence_penalty=0.0,\n",
    "    )\n",
    "    return response[\"choices\"][0][\"message\"][\"content\"]\n",
    "\n",
    "\n",
    "def write_to_parquet(test_records, filename, prompt_text):\n",
    "    schema = pa.schema([\n",
    "        ('nct_id', pa.string()),\n",
    "        ('description', pa.string()),\n",
    "        ('parsed_output', pa.dictionary(\n",
    "            pa.string(), \n",
    "            pa.string())\n",
    "        )\n",
    "    ])\n",
    "    pq_writer = pq.ParquetWriter(filename, schema)\n",
    "\n",
    "    for record in tqdm(test_records):\n",
    "        nct_id = record['nct_id']\n",
    "        description = record['description']\n",
    "        response_json = get_openai_response(\n",
    "            prompt_text,\n",
    "            description)\n",
    "        table = pa.Table.from_arrays([[nct_id], [description], [response_json]], schema=schema)\n",
    "        pq_writer.write_table(table)\n",
    "\n",
    "    pq_writer.close()"
   ]
  },
  {
   "cell_type": "code",
   "execution_count": 2,
   "metadata": {},
   "outputs": [],
   "source": [
    "data = [\n",
    "    {\n",
    "        \"nct_id\": \"NCT11111111\",\n",
    "        \"description\": \"This phase 3 trial evaluates the efficacy of nimbruvica compared to standard chemotherapy in patients with relapsed or refractory Acute Myeloid Leukemia (AML). AML is a cancer of the myeloid line of blood cells characterized by rapid growth of abnormal white blood cells. The study will enroll 530 participants across 100 sites globally.\"\n",
    "    },\n",
    "    {\n",
    "        \"nct_id\": \"NCT22222222\",\n",
    "        \"description\": \"This is a randomized, double-blind trial assessing long-term safety and efficacy of VYX-561 versus imatinib in patients with Chronic Myeloid Leukemia (CML) positive for the Philadelphia chromosome. CML causes increased and unregulated myeloid cell growth. VYX-561 is an investigational oral targeted therapy that inhibits the abnormal protein driving CML progression.\"\n",
    "    },\n",
    "    {\n",
    "        \"nct_id\": \"NCT33333333\",\n",
    "        \"description\": \"This randomized study investigates the combination of idelvova and rituximab versus rituximab alone for previously untreated Chronic Lymphocytic Leukemia (CLL). CLL results in excessive abnormal lymphocytes and tends to progress slowly over years. Idelvova is thought to enhance rituximab's anti-cancer effects by increasing immune activity against malignant CLL cells.\"\n",
    "    },\n",
    "    {\n",
    "        \"nct_id\": \"NCT44444444\", \n",
    "        \"description\" : \"This phase 2, open-label study evaluates niltroxan monotherapy in patients with relapsed or refractory Hairy Cell Leukemia. The drug will be administered orally twice daily. Hairy Cell Leukemia is a rare, slow-growing cancer where the bone marrow overproduces abnormal B cell lymphocytes with a 'hairy' appearance.\"\n",
    "    },\n",
    "    {\n",
    "        \"nct_id\": \"NCT55555555\",\n",
    "        \"description\": \"This multinational phase 3 trial investigates the addition of cortiumab to standard chemotherapy for pediatric patients with high-risk B-cell Acute Lymphoblastic Leukemia (ALL). ALL is an aggressive cancer starting from immature white blood cells. Cortiumab is a monoclonal antibody designed to target CD22 antigen on malignant cells to enhance chemotherapy's anti-leukemia effects.\"\n",
    "    }\n",
    "]"
   ]
  },
  {
   "cell_type": "code",
   "execution_count": 3,
   "metadata": {},
   "outputs": [
    {
     "data": {
      "text/plain": [
       "[{'nct_id': 'NCT11111111',\n",
       "  'description': 'This phase 3 trial evaluates the efficacy of nimbruvica compared to standard chemotherapy in patients with relapsed or refractory Acute Myeloid Leukemia (AML). AML is a cancer of the myeloid line of blood cells characterized by rapid growth of abnormal white blood cells. The study will enroll 530 participants across 100 sites globally.'},\n",
       " {'nct_id': 'NCT22222222',\n",
       "  'description': 'This is a randomized, double-blind trial assessing long-term safety and efficacy of VYX-561 versus imatinib in patients with Chronic Myeloid Leukemia (CML) positive for the Philadelphia chromosome. CML causes increased and unregulated myeloid cell growth. VYX-561 is an investigational oral targeted therapy that inhibits the abnormal protein driving CML progression.'},\n",
       " {'nct_id': 'NCT33333333',\n",
       "  'description': \"This randomized study investigates the combination of idelvova and rituximab versus rituximab alone for previously untreated Chronic Lymphocytic Leukemia (CLL). CLL results in excessive abnormal lymphocytes and tends to progress slowly over years. Idelvova is thought to enhance rituximab's anti-cancer effects by increasing immune activity against malignant CLL cells.\"},\n",
       " {'nct_id': 'NCT44444444',\n",
       "  'description': \"This phase 2, open-label study evaluates niltroxan monotherapy in patients with relapsed or refractory Hairy Cell Leukemia. The drug will be administered orally twice daily. Hairy Cell Leukemia is a rare, slow-growing cancer where the bone marrow overproduces abnormal B cell lymphocytes with a 'hairy' appearance.\"},\n",
       " {'nct_id': 'NCT55555555',\n",
       "  'description': \"This multinational phase 3 trial investigates the addition of cortiumab to standard chemotherapy for pediatric patients with high-risk B-cell Acute Lymphoblastic Leukemia (ALL). ALL is an aggressive cancer starting from immature white blood cells. Cortiumab is a monoclonal antibody designed to target CD22 antigen on malignant cells to enhance chemotherapy's anti-leukemia effects.\"}]"
      ]
     },
     "execution_count": 3,
     "metadata": {},
     "output_type": "execute_result"
    }
   ],
   "source": [
    "data"
   ]
  },
  {
   "cell_type": "code",
   "execution_count": 4,
   "metadata": {},
   "outputs": [],
   "source": [
    "prompt = \"\"\"\n",
    "    Return as JSON. \n",
    "    Include: indication/disease name, indication as EFO ID, product name, trial phase. \n",
    "    Don't return the original text.\n",
    "    \"\"\"\n",
    "text = \"\"\"This phase 3, randomized, double-blind trial will assess long-term safety\n",
    "    and efficacy of VYX-561 versus imatinib in patients with Chronic Myeloid Leukemia \n",
    "    (CML) positive for the Philadelphia chromosome. CML causes increased and unregulated \n",
    "    myeloid cell growth. VYX-561 is an investigational oral targeted therapy that \n",
    "    inhibits the abnormal protein driving CML progression.\n",
    "    \"\"\"\n",
    "\n",
    "response_json = get_openai_response(\n",
    "    prompt_text=prompt, \n",
    "    text=text\n",
    ")"
   ]
  },
  {
   "cell_type": "code",
   "execution_count": 5,
   "metadata": {},
   "outputs": [
    {
     "data": {
      "text/plain": [
       "{'indication_name': 'Chronic Myeloid Leukemia',\n",
       " 'indication_efo_id': 'EFO:0000565',\n",
       " 'product_name': 'VYX-561',\n",
       " 'trial_phase': 'Phase 3'}"
      ]
     },
     "execution_count": 5,
     "metadata": {},
     "output_type": "execute_result"
    }
   ],
   "source": [
    "import json\n",
    "\n",
    "json.loads(response_json)"
   ]
  },
  {
   "cell_type": "code",
   "execution_count": 6,
   "metadata": {},
   "outputs": [
    {
     "ename": "KeyError",
     "evalue": "'id'",
     "output_type": "error",
     "traceback": [
      "\u001b[0;31m---------------------------------------------------------------------------\u001b[0m",
      "\u001b[0;31mKeyError\u001b[0m                                  Traceback (most recent call last)",
      "Cell \u001b[0;32mIn[6], line 4\u001b[0m\n\u001b[1;32m      1\u001b[0m \u001b[38;5;28;01mimport\u001b[39;00m \u001b[38;5;21;01mjson\u001b[39;00m\n\u001b[1;32m      3\u001b[0m \u001b[38;5;28;01mfor\u001b[39;00m record \u001b[38;5;129;01min\u001b[39;00m data:\n\u001b[0;32m----> 4\u001b[0m     \u001b[38;5;28mid\u001b[39m \u001b[38;5;241m=\u001b[39m \u001b[43mrecord\u001b[49m\u001b[43m[\u001b[49m\u001b[38;5;124;43m\"\u001b[39;49m\u001b[38;5;124;43mid\u001b[39;49m\u001b[38;5;124;43m\"\u001b[39;49m\u001b[43m]\u001b[49m\n\u001b[1;32m      5\u001b[0m     description \u001b[38;5;241m=\u001b[39m record[\u001b[38;5;124m\"\u001b[39m\u001b[38;5;124mdescription\u001b[39m\u001b[38;5;124m\"\u001b[39m]\n\u001b[1;32m      7\u001b[0m json\u001b[38;5;241m.\u001b[39mloads(response_json)\n",
      "\u001b[0;31mKeyError\u001b[0m: 'id'"
     ]
    }
   ],
   "source": [
    "import json\n",
    "\n",
    "for record in data:\n",
    "    id = record[\"id\"]\n",
    "    description = record[\"description\"]\n",
    "\n",
    "json.loads(response_json)"
   ]
  },
  {
   "cell_type": "code",
   "execution_count": null,
   "metadata": {},
   "outputs": [
    {
     "ename": "TypeError",
     "evalue": "The dictionary index type should be integer.",
     "output_type": "error",
     "traceback": [
      "\u001b[0;31m---------------------------------------------------------------------------\u001b[0m",
      "\u001b[0;31mTypeError\u001b[0m                                 Traceback (most recent call last)",
      "\u001b[1;32m/workspaces/data-expressions/mynewbook/step-by-step/openai_polars.ipynb Cell 6\u001b[0m line \u001b[0;36m1\n\u001b[0;32m----> <a href='vscode-notebook-cell://codespaces%2Bliterate-broccoli-7v976ww6v67fp6j7/workspaces/data-expressions/mynewbook/step-by-step/openai_polars.ipynb#X25sdnNjb2RlLXJlbW90ZQ%3D%3D?line=0'>1</a>\u001b[0m write_to_parquet(\n\u001b[1;32m      <a href='vscode-notebook-cell://codespaces%2Bliterate-broccoli-7v976ww6v67fp6j7/workspaces/data-expressions/mynewbook/step-by-step/openai_polars.ipynb#X25sdnNjb2RlLXJlbW90ZQ%3D%3D?line=1'>2</a>\u001b[0m     data, \n\u001b[1;32m      <a href='vscode-notebook-cell://codespaces%2Bliterate-broccoli-7v976ww6v67fp6j7/workspaces/data-expressions/mynewbook/step-by-step/openai_polars.ipynb#X25sdnNjb2RlLXJlbW90ZQ%3D%3D?line=2'>3</a>\u001b[0m     \u001b[39m\"\u001b[39;49m\u001b[39moutput.parquet\u001b[39;49m\u001b[39m\"\u001b[39;49m, \n\u001b[1;32m      <a href='vscode-notebook-cell://codespaces%2Bliterate-broccoli-7v976ww6v67fp6j7/workspaces/data-expressions/mynewbook/step-by-step/openai_polars.ipynb#X25sdnNjb2RlLXJlbW90ZQ%3D%3D?line=3'>4</a>\u001b[0m     \u001b[39m\"\u001b[39;49m\u001b[39mReturn as JSON: which includes: indication/disease name, indication as EFO ID, product name, trial phase. Don\u001b[39;49m\u001b[39m'\u001b[39;49m\u001b[39mt returns the original text\u001b[39;49m\u001b[39m\"\u001b[39;49m)\n",
      "\u001b[1;32m/workspaces/data-expressions/mynewbook/step-by-step/openai_polars.ipynb Cell 6\u001b[0m line \u001b[0;36m2\n\u001b[1;32m     <a href='vscode-notebook-cell://codespaces%2Bliterate-broccoli-7v976ww6v67fp6j7/workspaces/data-expressions/mynewbook/step-by-step/openai_polars.ipynb#X25sdnNjb2RlLXJlbW90ZQ%3D%3D?line=24'>25</a>\u001b[0m \u001b[39mdef\u001b[39;00m \u001b[39mwrite_to_parquet\u001b[39m(test_records, filename, prompt_text):\n\u001b[1;32m     <a href='vscode-notebook-cell://codespaces%2Bliterate-broccoli-7v976ww6v67fp6j7/workspaces/data-expressions/mynewbook/step-by-step/openai_polars.ipynb#X25sdnNjb2RlLXJlbW90ZQ%3D%3D?line=25'>26</a>\u001b[0m     schema \u001b[39m=\u001b[39m pa\u001b[39m.\u001b[39mschema([\n\u001b[1;32m     <a href='vscode-notebook-cell://codespaces%2Bliterate-broccoli-7v976ww6v67fp6j7/workspaces/data-expressions/mynewbook/step-by-step/openai_polars.ipynb#X25sdnNjb2RlLXJlbW90ZQ%3D%3D?line=26'>27</a>\u001b[0m         (\u001b[39m'\u001b[39m\u001b[39mnct_id\u001b[39m\u001b[39m'\u001b[39m, pa\u001b[39m.\u001b[39mstring()),\n\u001b[1;32m     <a href='vscode-notebook-cell://codespaces%2Bliterate-broccoli-7v976ww6v67fp6j7/workspaces/data-expressions/mynewbook/step-by-step/openai_polars.ipynb#X25sdnNjb2RlLXJlbW90ZQ%3D%3D?line=27'>28</a>\u001b[0m         (\u001b[39m'\u001b[39m\u001b[39mdescription\u001b[39m\u001b[39m'\u001b[39m, pa\u001b[39m.\u001b[39mstring()),\n\u001b[0;32m---> <a href='vscode-notebook-cell://codespaces%2Bliterate-broccoli-7v976ww6v67fp6j7/workspaces/data-expressions/mynewbook/step-by-step/openai_polars.ipynb#X25sdnNjb2RlLXJlbW90ZQ%3D%3D?line=28'>29</a>\u001b[0m         (\u001b[39m'\u001b[39m\u001b[39mparsed_output\u001b[39m\u001b[39m'\u001b[39m, pa\u001b[39m.\u001b[39;49mdictionary(\n\u001b[1;32m     <a href='vscode-notebook-cell://codespaces%2Bliterate-broccoli-7v976ww6v67fp6j7/workspaces/data-expressions/mynewbook/step-by-step/openai_polars.ipynb#X25sdnNjb2RlLXJlbW90ZQ%3D%3D?line=29'>30</a>\u001b[0m             pa\u001b[39m.\u001b[39;49mstring(), \n\u001b[1;32m     <a href='vscode-notebook-cell://codespaces%2Bliterate-broccoli-7v976ww6v67fp6j7/workspaces/data-expressions/mynewbook/step-by-step/openai_polars.ipynb#X25sdnNjb2RlLXJlbW90ZQ%3D%3D?line=30'>31</a>\u001b[0m             pa\u001b[39m.\u001b[39;49mstring())\n\u001b[1;32m     <a href='vscode-notebook-cell://codespaces%2Bliterate-broccoli-7v976ww6v67fp6j7/workspaces/data-expressions/mynewbook/step-by-step/openai_polars.ipynb#X25sdnNjb2RlLXJlbW90ZQ%3D%3D?line=31'>32</a>\u001b[0m         )\n\u001b[1;32m     <a href='vscode-notebook-cell://codespaces%2Bliterate-broccoli-7v976ww6v67fp6j7/workspaces/data-expressions/mynewbook/step-by-step/openai_polars.ipynb#X25sdnNjb2RlLXJlbW90ZQ%3D%3D?line=32'>33</a>\u001b[0m     ])\n\u001b[1;32m     <a href='vscode-notebook-cell://codespaces%2Bliterate-broccoli-7v976ww6v67fp6j7/workspaces/data-expressions/mynewbook/step-by-step/openai_polars.ipynb#X25sdnNjb2RlLXJlbW90ZQ%3D%3D?line=33'>34</a>\u001b[0m     pq_writer \u001b[39m=\u001b[39m pq\u001b[39m.\u001b[39mParquetWriter(filename, schema)\n\u001b[1;32m     <a href='vscode-notebook-cell://codespaces%2Bliterate-broccoli-7v976ww6v67fp6j7/workspaces/data-expressions/mynewbook/step-by-step/openai_polars.ipynb#X25sdnNjb2RlLXJlbW90ZQ%3D%3D?line=35'>36</a>\u001b[0m     \u001b[39mfor\u001b[39;00m record \u001b[39min\u001b[39;00m tqdm(test_records):\n",
      "File \u001b[0;32m~/.cache/pypoetry/virtualenvs/data-expressions-XOHyUNvQ-py3.10/lib/python3.10/site-packages/pyarrow/types.pxi:4392\u001b[0m, in \u001b[0;36mpyarrow.lib.dictionary\u001b[0;34m()\u001b[0m\n",
      "File \u001b[0;32m~/.cache/pypoetry/virtualenvs/data-expressions-XOHyUNvQ-py3.10/lib/python3.10/site-packages/pyarrow/types.pxi:4443\u001b[0m, in \u001b[0;36mpyarrow.lib.dictionary\u001b[0;34m()\u001b[0m\n",
      "\u001b[0;31mTypeError\u001b[0m: The dictionary index type should be integer."
     ]
    }
   ],
   "source": [
    "write_to_parquet(\n",
    "    data, \n",
    "    \"output.parquet\", \n",
    "    \"Return as JSON: which includes: indication/disease name, indication as EFO ID, product name, trial phase. Don't returns the original text\")"
   ]
  },
  {
   "cell_type": "code",
   "execution_count": null,
   "metadata": {},
   "outputs": [],
   "source": []
  }
 ],
 "metadata": {
  "kernelspec": {
   "display_name": "data-expressions-XOHyUNvQ-py3.10",
   "language": "python",
   "name": "python3"
  },
  "language_info": {
   "codemirror_mode": {
    "name": "ipython",
    "version": 3
   },
   "file_extension": ".py",
   "mimetype": "text/x-python",
   "name": "python",
   "nbconvert_exporter": "python",
   "pygments_lexer": "ipython3",
   "version": "3.10.8"
  }
 },
 "nbformat": 4,
 "nbformat_minor": 2
}