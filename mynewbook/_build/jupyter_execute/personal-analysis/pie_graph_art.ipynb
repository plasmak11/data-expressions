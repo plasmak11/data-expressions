{
 "cells": [
  {
   "cell_type": "markdown",
   "metadata": {},
   "source": [
    "# Data Viz Art Musings\n",
    "\n",
    "Sometimes my viz produces unpredictable outputs, and might as well collect offshoots of those."
   ]
  },
  {
   "cell_type": "code",
   "execution_count": 1,
   "metadata": {},
   "outputs": [],
   "source": [
    "import altair as alt\n",
    "import polars as pl"
   ]
  },
  {
   "cell_type": "markdown",
   "metadata": {},
   "source": [
    "## Create your dataframe\n",
    "\n",
    "Think I can work more robust version, but for the sake of simplicity"
   ]
  },
  {
   "cell_type": "code",
   "execution_count": 2,
   "metadata": {},
   "outputs": [],
   "source": [
    "df = pl.DataFrame(\n",
    "    {\n",
    "        'arc': [1, 1, 1, 1, 1, 1, 1, 1],\n",
    "        'class': [\"3\", \"3\", \"3\", \"5\", \"5\", \"5\", \"5\", \"5\"],\n",
    "        'subclass': [\"3A\", \"3B\", \"3C\", \"5A\", \"5B\", \"5C\", \"5D\", \"5E\"]\n",
    "    }\n",
    ")"
   ]
  },
  {
   "cell_type": "markdown",
   "metadata": {},
   "source": [
    "## First Arc\n",
    "\n",
    "Manipulating these Radius settings is key"
   ]
  },
  {
   "cell_type": "code",
   "execution_count": 3,
   "metadata": {},
   "outputs": [],
   "source": [
    "arc_1 = (\n",
    "    alt.Chart(df).mark_arc(\n",
    "        innerRadius=25,\n",
    "        outerRadius=60,\n",
    "        cornerRadius=70,\n",
    "        strokeOpacity=1,\n",
    "        stroke=\"white\",\n",
    "        strokeWidth=2,\n",
    "        binSpacing=0\n",
    "    )\n",
    "    .encode(\n",
    "        theta=alt.Theta(field='arc', type='quantitative'),\n",
    "        color=\"class:N\"\n",
    "    )\n",
    ")"
   ]
  },
  {
   "cell_type": "markdown",
   "metadata": {},
   "source": [
    "## Second Arc"
   ]
  },
  {
   "cell_type": "code",
   "execution_count": 4,
   "metadata": {},
   "outputs": [],
   "source": [
    "arc_2 = (\n",
    "    alt.Chart(df).mark_arc(\n",
    "        innerRadius=10,\n",
    "        outerRadius=23,\n",
    "        cornerRadius=10,\n",
    "        strokeOpacity=1,\n",
    "        stroke=\"white\",\n",
    "        strokeWidth=2,\n",
    "        binSpacing=0\n",
    "    )\n",
    "    .encode(\n",
    "        theta=alt.Theta(field='arc', type='quantitative'),\n",
    "        color=alt.Color(\"subclass:N\")\n",
    "    )\n",
    ")"
   ]
  },
  {
   "cell_type": "code",
   "execution_count": 5,
   "metadata": {},
   "outputs": [],
   "source": [
    "arc_3 = (\n",
    "    alt.Chart(df).mark_arc(\n",
    "        innerRadius=88,\n",
    "        outerRadius=100,\n",
    "        cornerRadius=10,\n",
    "        strokeOpacity=1,\n",
    "        stroke=\"white\",\n",
    "        strokeWidth=2,\n",
    "        binSpacing=0\n",
    "    )\n",
    "    .encode(\n",
    "        theta=alt.Theta(field='arc', type='quantitative'),\n",
    "        color=alt.Color(\"arc:O\")\n",
    "    )\n",
    ")"
   ]
  },
  {
   "cell_type": "code",
   "execution_count": 6,
   "metadata": {},
   "outputs": [],
   "source": [
    "test = ((arc_1 + arc_2 + arc_3)\n",
    "    .configure_view(\n",
    "        fill=\"gray\",\n",
    "        fillOpacity=0.1,\n",
    "        step=0,\n",
    "        strokeWidth=1,\n",
    "        stroke=\"lightgray\",\n",
    "    )).properties(\n",
    "        title=alt.Title(\n",
    "            text=\"Three pie charts.\",\n",
    "            font=\"Georgia\",\n",
    "            fontSize=20\n",
    "        )\n",
    "    )"
   ]
  },
  {
   "cell_type": "code",
   "execution_count": 7,
   "metadata": {},
   "outputs": [
    {
     "data": {
      "text/html": [
       "\n",
       "<style>\n",
       "  #altair-viz-3d254df54e8c4443838f9fb8521e2a3e.vega-embed {\n",
       "    width: 100%;\n",
       "    display: flex;\n",
       "  }\n",
       "\n",
       "  #altair-viz-3d254df54e8c4443838f9fb8521e2a3e.vega-embed details,\n",
       "  #altair-viz-3d254df54e8c4443838f9fb8521e2a3e.vega-embed details summary {\n",
       "    position: relative;\n",
       "  }\n",
       "</style>\n",
       "<div id=\"altair-viz-3d254df54e8c4443838f9fb8521e2a3e\"></div>\n",
       "<script type=\"text/javascript\">\n",
       "  var VEGA_DEBUG = (typeof VEGA_DEBUG == \"undefined\") ? {} : VEGA_DEBUG;\n",
       "  (function(spec, embedOpt){\n",
       "    let outputDiv = document.currentScript.previousElementSibling;\n",
       "    if (outputDiv.id !== \"altair-viz-3d254df54e8c4443838f9fb8521e2a3e\") {\n",
       "      outputDiv = document.getElementById(\"altair-viz-3d254df54e8c4443838f9fb8521e2a3e\");\n",
       "    }\n",
       "    const paths = {\n",
       "      \"vega\": \"https://cdn.jsdelivr.net/npm/vega@5?noext\",\n",
       "      \"vega-lib\": \"https://cdn.jsdelivr.net/npm/vega-lib?noext\",\n",
       "      \"vega-lite\": \"https://cdn.jsdelivr.net/npm/vega-lite@5.15.1?noext\",\n",
       "      \"vega-embed\": \"https://cdn.jsdelivr.net/npm/vega-embed@6?noext\",\n",
       "    };\n",
       "\n",
       "    function maybeLoadScript(lib, version) {\n",
       "      var key = `${lib.replace(\"-\", \"\")}_version`;\n",
       "      return (VEGA_DEBUG[key] == version) ?\n",
       "        Promise.resolve(paths[lib]) :\n",
       "        new Promise(function(resolve, reject) {\n",
       "          var s = document.createElement('script');\n",
       "          document.getElementsByTagName(\"head\")[0].appendChild(s);\n",
       "          s.async = true;\n",
       "          s.onload = () => {\n",
       "            VEGA_DEBUG[key] = version;\n",
       "            return resolve(paths[lib]);\n",
       "          };\n",
       "          s.onerror = () => reject(`Error loading script: ${paths[lib]}`);\n",
       "          s.src = paths[lib];\n",
       "        });\n",
       "    }\n",
       "\n",
       "    function showError(err) {\n",
       "      outputDiv.innerHTML = `<div class=\"error\" style=\"color:red;\">${err}</div>`;\n",
       "      throw err;\n",
       "    }\n",
       "\n",
       "    function displayChart(vegaEmbed) {\n",
       "      vegaEmbed(outputDiv, spec, embedOpt)\n",
       "        .catch(err => showError(`Javascript Error: ${err.message}<br>This usually means there's a typo in your chart specification. See the javascript console for the full traceback.`));\n",
       "    }\n",
       "\n",
       "    if(typeof define === \"function\" && define.amd) {\n",
       "      requirejs.config({paths});\n",
       "      require([\"vega-embed\"], displayChart, err => showError(`Error loading script: ${err.message}`));\n",
       "    } else {\n",
       "      maybeLoadScript(\"vega\", \"5\")\n",
       "        .then(() => maybeLoadScript(\"vega-lite\", \"5.15.1\"))\n",
       "        .then(() => maybeLoadScript(\"vega-embed\", \"6\"))\n",
       "        .catch(showError)\n",
       "        .then(() => displayChart(vegaEmbed));\n",
       "    }\n",
       "  })({\"config\": {\"view\": {\"continuousWidth\": 300, \"continuousHeight\": 300, \"fill\": \"gray\", \"fillOpacity\": 0.1, \"step\": 0, \"stroke\": \"lightgray\", \"strokeWidth\": 1}}, \"layer\": [{\"mark\": {\"type\": \"arc\", \"binSpacing\": 0, \"cornerRadius\": 70, \"innerRadius\": 25, \"outerRadius\": 60, \"stroke\": \"white\", \"strokeOpacity\": 1, \"strokeWidth\": 2}, \"encoding\": {\"color\": {\"field\": \"class\", \"type\": \"nominal\"}, \"theta\": {\"field\": \"arc\", \"type\": \"quantitative\"}}}, {\"mark\": {\"type\": \"arc\", \"binSpacing\": 0, \"cornerRadius\": 10, \"innerRadius\": 10, \"outerRadius\": 23, \"stroke\": \"white\", \"strokeOpacity\": 1, \"strokeWidth\": 2}, \"encoding\": {\"color\": {\"field\": \"subclass\", \"type\": \"nominal\"}, \"theta\": {\"field\": \"arc\", \"type\": \"quantitative\"}}}, {\"mark\": {\"type\": \"arc\", \"binSpacing\": 0, \"cornerRadius\": 10, \"innerRadius\": 88, \"outerRadius\": 100, \"stroke\": \"white\", \"strokeOpacity\": 1, \"strokeWidth\": 2}, \"encoding\": {\"color\": {\"field\": \"arc\", \"type\": \"ordinal\"}, \"theta\": {\"field\": \"arc\", \"type\": \"quantitative\"}}}], \"data\": {\"name\": \"data-1591ff6caf50e1f244e44ba965ce9979\"}, \"title\": {\"text\": \"Three pie charts.\", \"font\": \"Georgia\", \"fontSize\": 20}, \"$schema\": \"https://vega.github.io/schema/vega-lite/v5.15.1.json\", \"datasets\": {\"data-1591ff6caf50e1f244e44ba965ce9979\": [{\"arc\": 1, \"class\": \"3\", \"subclass\": \"3A\"}, {\"arc\": 1, \"class\": \"3\", \"subclass\": \"3B\"}, {\"arc\": 1, \"class\": \"3\", \"subclass\": \"3C\"}, {\"arc\": 1, \"class\": \"5\", \"subclass\": \"5A\"}, {\"arc\": 1, \"class\": \"5\", \"subclass\": \"5B\"}, {\"arc\": 1, \"class\": \"5\", \"subclass\": \"5C\"}, {\"arc\": 1, \"class\": \"5\", \"subclass\": \"5D\"}, {\"arc\": 1, \"class\": \"5\", \"subclass\": \"5E\"}]}}, {\"mode\": \"vega-lite\"});\n",
       "</script>"
      ],
      "text/plain": [
       "alt.LayerChart(...)"
      ]
     },
     "execution_count": 7,
     "metadata": {},
     "output_type": "execute_result"
    }
   ],
   "source": [
    "test"
   ]
  },
  {
   "cell_type": "code",
   "execution_count": 8,
   "metadata": {},
   "outputs": [],
   "source": [
    "test.save(\"pie_chart.html\")"
   ]
  },
  {
   "cell_type": "code",
   "execution_count": null,
   "metadata": {},
   "outputs": [],
   "source": []
  }
 ],
 "metadata": {
  "kernelspec": {
   "display_name": "data-expressions-XOHyUNvQ-py3.10",
   "language": "python",
   "name": "python3"
  },
  "language_info": {
   "codemirror_mode": {
    "name": "ipython",
    "version": 3
   },
   "file_extension": ".py",
   "mimetype": "text/x-python",
   "name": "python",
   "nbconvert_exporter": "python",
   "pygments_lexer": "ipython3",
   "version": "3.10.8"
  }
 },
 "nbformat": 4,
 "nbformat_minor": 2
}