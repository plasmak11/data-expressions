{
 "cells": [
  {
   "cell_type": "code",
   "execution_count": 1,
   "metadata": {},
   "outputs": [
    {
     "ename": "NameError",
     "evalue": "name 'pl' is not defined",
     "output_type": "error",
     "traceback": [
      "\u001b[0;31m---------------------------------------------------------------------------\u001b[0m",
      "\u001b[0;31mNameError\u001b[0m                                 Traceback (most recent call last)",
      "Cell \u001b[0;32mIn[1], line 29\u001b[0m\n\u001b[1;32m      1\u001b[0m \u001b[38;5;28;01mimport\u001b[39;00m \u001b[38;5;21;01mpandas\u001b[39;00m \u001b[38;5;28;01mas\u001b[39;00m \u001b[38;5;21;01mpd\u001b[39;00m\n\u001b[1;32m      3\u001b[0m data \u001b[38;5;241m=\u001b[39m {\u001b[38;5;124m'\u001b[39m\u001b[38;5;124mPatient\u001b[39m\u001b[38;5;124m'\u001b[39m: [\u001b[38;5;124m'\u001b[39m\u001b[38;5;124mPatient 1\u001b[39m\u001b[38;5;124m'\u001b[39m]\u001b[38;5;241m*\u001b[39m\u001b[38;5;241m11\u001b[39m \u001b[38;5;241m+\u001b[39m [\u001b[38;5;124m'\u001b[39m\u001b[38;5;124mPatient 2\u001b[39m\u001b[38;5;124m'\u001b[39m]\u001b[38;5;241m*\u001b[39m\u001b[38;5;241m11\u001b[39m \u001b[38;5;241m+\u001b[39m [\u001b[38;5;124m'\u001b[39m\u001b[38;5;124mPatient 3\u001b[39m\u001b[38;5;124m'\u001b[39m]\u001b[38;5;241m*\u001b[39m\u001b[38;5;241m11\u001b[39m,\n\u001b[1;32m      4\u001b[0m         \u001b[38;5;124m'\u001b[39m\u001b[38;5;124mDate\u001b[39m\u001b[38;5;124m'\u001b[39m: [\u001b[38;5;124m'\u001b[39m\u001b[38;5;124m2022-01-05\u001b[39m\u001b[38;5;124m'\u001b[39m,\u001b[38;5;124m'\u001b[39m\u001b[38;5;124m2022-01-05\u001b[39m\u001b[38;5;124m'\u001b[39m,\u001b[38;5;124m'\u001b[39m\u001b[38;5;124m2022-01-05\u001b[39m\u001b[38;5;124m'\u001b[39m, \n\u001b[1;32m      5\u001b[0m                  \u001b[38;5;124m'\u001b[39m\u001b[38;5;124m2022-03-15\u001b[39m\u001b[38;5;124m'\u001b[39m,\u001b[38;5;124m'\u001b[39m\u001b[38;5;124m2022-03-15\u001b[39m\u001b[38;5;124m'\u001b[39m,\u001b[38;5;124m'\u001b[39m\u001b[38;5;124m2022-03-15\u001b[39m\u001b[38;5;124m'\u001b[39m,\n\u001b[0;32m   (...)\u001b[0m\n\u001b[1;32m     26\u001b[0m                   \u001b[38;5;241m8.4\u001b[39m,\u001b[38;5;241m4.8\u001b[39m,\u001b[38;5;241m7.8\u001b[39m]\n\u001b[1;32m     27\u001b[0m        }\n\u001b[0;32m---> 29\u001b[0m df \u001b[38;5;241m=\u001b[39m \u001b[43mpl\u001b[49m\u001b[38;5;241m.\u001b[39mDataFrame(data)\u001b[38;5;241m.\u001b[39mwith_columns(pl\u001b[38;5;241m.\u001b[39mcol(\u001b[38;5;124m\"\u001b[39m\u001b[38;5;124mDate\u001b[39m\u001b[38;5;124m\"\u001b[39m)\u001b[38;5;241m.\u001b[39mstr\u001b[38;5;241m.\u001b[39mto_datetime(\u001b[38;5;28mformat\u001b[39m\u001b[38;5;241m=\u001b[39m\u001b[38;5;124m\"\u001b[39m\u001b[38;5;124m%\u001b[39m\u001b[38;5;124mY-\u001b[39m\u001b[38;5;124m%\u001b[39m\u001b[38;5;124mm-\u001b[39m\u001b[38;5;132;01m%d\u001b[39;00m\u001b[38;5;124m\"\u001b[39m)\u001b[38;5;241m.\u001b[39mdt\u001b[38;5;241m.\u001b[39mdate())\n\u001b[1;32m     30\u001b[0m df\n",
      "\u001b[0;31mNameError\u001b[0m: name 'pl' is not defined"
     ]
    }
   ],
   "source": [
    "import pandas as pd\n",
    "\n",
    "data = {'Patient': ['Patient 1']*11 + ['Patient 2']*11 + ['Patient 3']*11,\n",
    "        'Date': ['2022-01-05','2022-01-05','2022-01-05', \n",
    "                 '2022-03-15','2022-03-15','2022-03-15',\n",
    "                 '2022-05-30','2022-05-30','2022-05-30',  \n",
    "                 '2022-08-12','2022-08-12','2022-08-12',\n",
    "                 '2022-02-14','2022-02-14','2022-02-14',\n",
    "                 '2022-04-20','2022-04-20','2022-04-20',\n",
    "                 '2022-06-25','2022-06-25','2022-06-25',\n",
    "                 '2022-09-05','2022-09-05','2022-09-05', \n",
    "                 '2022-03-02','2022-03-02','2022-03-02',\n",
    "                 '2022-05-11','2022-05-11','2022-05-11',\n",
    "                 '2022-07-19','2022-07-19','2022-07-19'],\n",
    "        'Lab': ['A1C','Potassium','WBC']*11,\n",
    "        'Value': [6.1,4.2,9.0,\n",
    "                  5.8,4.0,8.5,\n",
    "                  5.9,4.1,8.8,\n",
    "                  6.0,4.3,9.5,\n",
    "                  7.2,4.4,10.5,\n",
    "                  7.0,4.5,10.0,\n",
    "                  7.1,4.3,10.2,\n",
    "                  6.9,4.4,9.8,\n",
    "                  8.5,4.7,9.5,\n",
    "                  8.3,4.6,9.0,\n",
    "                  8.4,4.8,7.8]\n",
    "       }\n",
    "\n",
    "df = pl.DataFrame(data).with_columns(pl.col(\"Date\").str.to_datetime(format=\"%Y-%m-%d\").dt.date())\n",
    "df"
   ]
  },
  {
   "cell_type": "code",
   "execution_count": 28,
   "metadata": {},
   "outputs": [
    {
     "data": {
      "text/html": [
       "\n",
       "<style>\n",
       "  #altair-viz-d6d11b08f27848cc9cf8310fa67a2686.vega-embed {\n",
       "    width: 100%;\n",
       "    display: flex;\n",
       "  }\n",
       "\n",
       "  #altair-viz-d6d11b08f27848cc9cf8310fa67a2686.vega-embed details,\n",
       "  #altair-viz-d6d11b08f27848cc9cf8310fa67a2686.vega-embed details summary {\n",
       "    position: relative;\n",
       "  }\n",
       "</style>\n",
       "<div id=\"altair-viz-d6d11b08f27848cc9cf8310fa67a2686\"></div>\n",
       "<script type=\"text/javascript\">\n",
       "  var VEGA_DEBUG = (typeof VEGA_DEBUG == \"undefined\") ? {} : VEGA_DEBUG;\n",
       "  (function(spec, embedOpt){\n",
       "    let outputDiv = document.currentScript.previousElementSibling;\n",
       "    if (outputDiv.id !== \"altair-viz-d6d11b08f27848cc9cf8310fa67a2686\") {\n",
       "      outputDiv = document.getElementById(\"altair-viz-d6d11b08f27848cc9cf8310fa67a2686\");\n",
       "    }\n",
       "    const paths = {\n",
       "      \"vega\": \"https://cdn.jsdelivr.net/npm/vega@5?noext\",\n",
       "      \"vega-lib\": \"https://cdn.jsdelivr.net/npm/vega-lib?noext\",\n",
       "      \"vega-lite\": \"https://cdn.jsdelivr.net/npm/vega-lite@5.8.0?noext\",\n",
       "      \"vega-embed\": \"https://cdn.jsdelivr.net/npm/vega-embed@6?noext\",\n",
       "    };\n",
       "\n",
       "    function maybeLoadScript(lib, version) {\n",
       "      var key = `${lib.replace(\"-\", \"\")}_version`;\n",
       "      return (VEGA_DEBUG[key] == version) ?\n",
       "        Promise.resolve(paths[lib]) :\n",
       "        new Promise(function(resolve, reject) {\n",
       "          var s = document.createElement('script');\n",
       "          document.getElementsByTagName(\"head\")[0].appendChild(s);\n",
       "          s.async = true;\n",
       "          s.onload = () => {\n",
       "            VEGA_DEBUG[key] = version;\n",
       "            return resolve(paths[lib]);\n",
       "          };\n",
       "          s.onerror = () => reject(`Error loading script: ${paths[lib]}`);\n",
       "          s.src = paths[lib];\n",
       "        });\n",
       "    }\n",
       "\n",
       "    function showError(err) {\n",
       "      outputDiv.innerHTML = `<div class=\"error\" style=\"color:red;\">${err}</div>`;\n",
       "      throw err;\n",
       "    }\n",
       "\n",
       "    function displayChart(vegaEmbed) {\n",
       "      vegaEmbed(outputDiv, spec, embedOpt)\n",
       "        .catch(err => showError(`Javascript Error: ${err.message}<br>This usually means there's a typo in your chart specification. See the javascript console for the full traceback.`));\n",
       "    }\n",
       "\n",
       "    if(typeof define === \"function\" && define.amd) {\n",
       "      requirejs.config({paths});\n",
       "      require([\"vega-embed\"], displayChart, err => showError(`Error loading script: ${err.message}`));\n",
       "    } else {\n",
       "      maybeLoadScript(\"vega\", \"5\")\n",
       "        .then(() => maybeLoadScript(\"vega-lite\", \"5.8.0\"))\n",
       "        .then(() => maybeLoadScript(\"vega-embed\", \"6\"))\n",
       "        .catch(showError)\n",
       "        .then(() => displayChart(vegaEmbed));\n",
       "    }\n",
       "  })({\"config\": {\"view\": {\"continuousWidth\": 300, \"continuousHeight\": 300}}, \"data\": {\"name\": \"data-56b95d23462cb30b8a3eca94a325522b\"}, \"mark\": {\"type\": \"line\", \"interpolate\": \"step-after\", \"point\": true}, \"encoding\": {\"color\": {\"field\": \"Lab\", \"type\": \"nominal\"}, \"x\": {\"field\": \"Date\", \"type\": \"temporal\"}, \"y\": {\"field\": \"Value\", \"type\": \"quantitative\"}}, \"transform\": [{\"filter\": \"(datum.Patient === 'Patient 1')\"}], \"$schema\": \"https://vega.github.io/schema/vega-lite/v5.8.0.json\", \"datasets\": {\"data-56b95d23462cb30b8a3eca94a325522b\": [{\"Patient\": \"Patient 1\", \"Date\": \"2022-01-05T00:00:00\", \"Lab\": \"A1C\", \"Value\": 6.1}, {\"Patient\": \"Patient 1\", \"Date\": \"2022-01-05T00:00:00\", \"Lab\": \"Potassium\", \"Value\": 4.2}, {\"Patient\": \"Patient 1\", \"Date\": \"2022-01-05T00:00:00\", \"Lab\": \"WBC\", \"Value\": 9.0}, {\"Patient\": \"Patient 1\", \"Date\": \"2022-03-15T00:00:00\", \"Lab\": \"A1C\", \"Value\": 5.8}, {\"Patient\": \"Patient 1\", \"Date\": \"2022-03-15T00:00:00\", \"Lab\": \"Potassium\", \"Value\": 4.0}, {\"Patient\": \"Patient 1\", \"Date\": \"2022-03-15T00:00:00\", \"Lab\": \"WBC\", \"Value\": 8.5}, {\"Patient\": \"Patient 1\", \"Date\": \"2022-05-30T00:00:00\", \"Lab\": \"A1C\", \"Value\": 5.9}, {\"Patient\": \"Patient 1\", \"Date\": \"2022-05-30T00:00:00\", \"Lab\": \"Potassium\", \"Value\": 4.1}, {\"Patient\": \"Patient 1\", \"Date\": \"2022-05-30T00:00:00\", \"Lab\": \"WBC\", \"Value\": 8.8}, {\"Patient\": \"Patient 1\", \"Date\": \"2022-08-12T00:00:00\", \"Lab\": \"A1C\", \"Value\": 6.0}, {\"Patient\": \"Patient 1\", \"Date\": \"2022-08-12T00:00:00\", \"Lab\": \"Potassium\", \"Value\": 4.3}, {\"Patient\": \"Patient 2\", \"Date\": \"2022-08-12T00:00:00\", \"Lab\": \"WBC\", \"Value\": 9.5}, {\"Patient\": \"Patient 2\", \"Date\": \"2022-02-14T00:00:00\", \"Lab\": \"A1C\", \"Value\": 7.2}, {\"Patient\": \"Patient 2\", \"Date\": \"2022-02-14T00:00:00\", \"Lab\": \"Potassium\", \"Value\": 4.4}, {\"Patient\": \"Patient 2\", \"Date\": \"2022-02-14T00:00:00\", \"Lab\": \"WBC\", \"Value\": 10.5}, {\"Patient\": \"Patient 2\", \"Date\": \"2022-04-20T00:00:00\", \"Lab\": \"A1C\", \"Value\": 7.0}, {\"Patient\": \"Patient 2\", \"Date\": \"2022-04-20T00:00:00\", \"Lab\": \"Potassium\", \"Value\": 4.5}, {\"Patient\": \"Patient 2\", \"Date\": \"2022-04-20T00:00:00\", \"Lab\": \"WBC\", \"Value\": 10.0}, {\"Patient\": \"Patient 2\", \"Date\": \"2022-06-25T00:00:00\", \"Lab\": \"A1C\", \"Value\": 7.1}, {\"Patient\": \"Patient 2\", \"Date\": \"2022-06-25T00:00:00\", \"Lab\": \"Potassium\", \"Value\": 4.3}, {\"Patient\": \"Patient 2\", \"Date\": \"2022-06-25T00:00:00\", \"Lab\": \"WBC\", \"Value\": 10.2}, {\"Patient\": \"Patient 2\", \"Date\": \"2022-09-05T00:00:00\", \"Lab\": \"A1C\", \"Value\": 6.9}, {\"Patient\": \"Patient 3\", \"Date\": \"2022-09-05T00:00:00\", \"Lab\": \"Potassium\", \"Value\": 4.4}, {\"Patient\": \"Patient 3\", \"Date\": \"2022-09-05T00:00:00\", \"Lab\": \"WBC\", \"Value\": 9.8}, {\"Patient\": \"Patient 3\", \"Date\": \"2022-03-02T00:00:00\", \"Lab\": \"A1C\", \"Value\": 8.5}, {\"Patient\": \"Patient 3\", \"Date\": \"2022-03-02T00:00:00\", \"Lab\": \"Potassium\", \"Value\": 4.7}, {\"Patient\": \"Patient 3\", \"Date\": \"2022-03-02T00:00:00\", \"Lab\": \"WBC\", \"Value\": 9.5}, {\"Patient\": \"Patient 3\", \"Date\": \"2022-05-11T00:00:00\", \"Lab\": \"A1C\", \"Value\": 8.3}, {\"Patient\": \"Patient 3\", \"Date\": \"2022-05-11T00:00:00\", \"Lab\": \"Potassium\", \"Value\": 4.6}, {\"Patient\": \"Patient 3\", \"Date\": \"2022-05-11T00:00:00\", \"Lab\": \"WBC\", \"Value\": 9.0}, {\"Patient\": \"Patient 3\", \"Date\": \"2022-07-19T00:00:00\", \"Lab\": \"A1C\", \"Value\": 8.4}, {\"Patient\": \"Patient 3\", \"Date\": \"2022-07-19T00:00:00\", \"Lab\": \"Potassium\", \"Value\": 4.8}, {\"Patient\": \"Patient 3\", \"Date\": \"2022-07-19T00:00:00\", \"Lab\": \"WBC\", \"Value\": 7.8}]}}, {\"mode\": \"vega-lite\"});\n",
       "</script>"
      ],
      "text/plain": [
       "alt.Chart(...)"
      ]
     },
     "execution_count": 28,
     "metadata": {},
     "output_type": "execute_result"
    }
   ],
   "source": [
    "import altair as alt\n",
    "from vega_datasets import data\n",
    "\n",
    "alt.Chart(df.to_pandas()).mark_line(interpolate='step-after', point=True).encode(\n",
    "    x='Date:T',\n",
    "    y='Value:Q',\n",
    "    color=\"Lab\",\n",
    ").transform_filter(\n",
    "    alt.datum.Patient == 'Patient 1'\n",
    ")"
   ]
  },
  {
   "cell_type": "code",
   "execution_count": 1,
   "metadata": {},
   "outputs": [],
   "source": [
    "import polars as pl"
   ]
  },
  {
   "cell_type": "code",
   "execution_count": 3,
   "metadata": {},
   "outputs": [],
   "source": [
    "import owlready2\n",
    "\n",
    "hpo = owlready2.get_ontology(\"http://purl.obolibrary.org/obo/hp.owl\").load()"
   ]
  },
  {
   "cell_type": "code",
   "execution_count": 4,
   "metadata": {},
   "outputs": [
    {
     "data": {
      "text/plain": [
       "get_ontology(\"http://purl.obolibrary.org/obo/hp.owl#\")"
      ]
     },
     "execution_count": 4,
     "metadata": {},
     "output_type": "execute_result"
    }
   ],
   "source": [
    "hpo"
   ]
  },
  {
   "cell_type": "code",
   "execution_count": null,
   "metadata": {},
   "outputs": [],
   "source": []
  }
 ],
 "metadata": {
  "kernelspec": {
   "display_name": "data-expressions-XOHyUNvQ-py3.10",
   "language": "python",
   "name": "python3"
  },
  "language_info": {
   "codemirror_mode": {
    "name": "ipython",
    "version": 3
   },
   "file_extension": ".py",
   "mimetype": "text/x-python",
   "name": "python",
   "nbconvert_exporter": "python",
   "pygments_lexer": "ipython3",
   "version": "3.10.8"
  }
 },
 "nbformat": 4,
 "nbformat_minor": 2
}