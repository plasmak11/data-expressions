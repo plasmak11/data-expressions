{
 "cells": [
  {
   "cell_type": "code",
   "execution_count": 1,
   "metadata": {},
   "outputs": [
    {
     "data": {
      "text/html": [
       "\n",
       "<style>\n",
       "  #altair-viz-e4298753239941feb51d51f7f5f574d1.vega-embed {\n",
       "    width: 100%;\n",
       "    display: flex;\n",
       "  }\n",
       "\n",
       "  #altair-viz-e4298753239941feb51d51f7f5f574d1.vega-embed details,\n",
       "  #altair-viz-e4298753239941feb51d51f7f5f574d1.vega-embed details summary {\n",
       "    position: relative;\n",
       "  }\n",
       "</style>\n",
       "<div id=\"altair-viz-e4298753239941feb51d51f7f5f574d1\"></div>\n",
       "<script type=\"text/javascript\">\n",
       "  var VEGA_DEBUG = (typeof VEGA_DEBUG == \"undefined\") ? {} : VEGA_DEBUG;\n",
       "  (function(spec, embedOpt){\n",
       "    let outputDiv = document.currentScript.previousElementSibling;\n",
       "    if (outputDiv.id !== \"altair-viz-e4298753239941feb51d51f7f5f574d1\") {\n",
       "      outputDiv = document.getElementById(\"altair-viz-e4298753239941feb51d51f7f5f574d1\");\n",
       "    }\n",
       "    const paths = {\n",
       "      \"vega\": \"https://cdn.jsdelivr.net/npm/vega@5?noext\",\n",
       "      \"vega-lib\": \"https://cdn.jsdelivr.net/npm/vega-lib?noext\",\n",
       "      \"vega-lite\": \"https://cdn.jsdelivr.net/npm/vega-lite@5.8.0?noext\",\n",
       "      \"vega-embed\": \"https://cdn.jsdelivr.net/npm/vega-embed@6?noext\",\n",
       "    };\n",
       "\n",
       "    function maybeLoadScript(lib, version) {\n",
       "      var key = `${lib.replace(\"-\", \"\")}_version`;\n",
       "      return (VEGA_DEBUG[key] == version) ?\n",
       "        Promise.resolve(paths[lib]) :\n",
       "        new Promise(function(resolve, reject) {\n",
       "          var s = document.createElement('script');\n",
       "          document.getElementsByTagName(\"head\")[0].appendChild(s);\n",
       "          s.async = true;\n",
       "          s.onload = () => {\n",
       "            VEGA_DEBUG[key] = version;\n",
       "            return resolve(paths[lib]);\n",
       "          };\n",
       "          s.onerror = () => reject(`Error loading script: ${paths[lib]}`);\n",
       "          s.src = paths[lib];\n",
       "        });\n",
       "    }\n",
       "\n",
       "    function showError(err) {\n",
       "      outputDiv.innerHTML = `<div class=\"error\" style=\"color:red;\">${err}</div>`;\n",
       "      throw err;\n",
       "    }\n",
       "\n",
       "    function displayChart(vegaEmbed) {\n",
       "      vegaEmbed(outputDiv, spec, embedOpt)\n",
       "        .catch(err => showError(`Javascript Error: ${err.message}<br>This usually means there's a typo in your chart specification. See the javascript console for the full traceback.`));\n",
       "    }\n",
       "\n",
       "    if(typeof define === \"function\" && define.amd) {\n",
       "      requirejs.config({paths});\n",
       "      require([\"vega-embed\"], displayChart, err => showError(`Error loading script: ${err.message}`));\n",
       "    } else {\n",
       "      maybeLoadScript(\"vega\", \"5\")\n",
       "        .then(() => maybeLoadScript(\"vega-lite\", \"5.8.0\"))\n",
       "        .then(() => maybeLoadScript(\"vega-embed\", \"6\"))\n",
       "        .catch(showError)\n",
       "        .then(() => displayChart(vegaEmbed));\n",
       "    }\n",
       "  })({\"config\": {\"view\": {\"continuousWidth\": 300, \"continuousHeight\": 300}}, \"hconcat\": [{\"mark\": {\"type\": \"point\"}, \"encoding\": {\"color\": {\"field\": \"species\", \"type\": \"nominal\"}, \"x\": {\"axis\": {\"domain\": false, \"grid\": false}, \"field\": \"petalLength\", \"type\": \"quantitative\"}, \"y\": {\"axis\": {\"domain\": false, \"grid\": false}, \"field\": \"petalWidth\", \"type\": \"quantitative\"}}, \"height\": 200, \"width\": 200}, {\"mark\": {\"type\": \"bar\"}, \"encoding\": {\"color\": {\"field\": \"species\", \"type\": \"nominal\"}, \"x\": {\"aggregate\": \"count\", \"type\": \"quantitative\"}, \"y\": {\"bin\": {\"maxbins\": 30}, \"field\": \"petalWidth\", \"type\": \"quantitative\"}}, \"height\": 200, \"width\": 100}], \"data\": {\"url\": \"https://cdn.jsdelivr.net/npm/vega-datasets@v1.29.0/data/iris.json\"}, \"$schema\": \"https://vega.github.io/schema/vega-lite/v5.8.0.json\"}, {\"mode\": \"vega-lite\"});\n",
       "</script>"
      ],
      "text/plain": [
       "alt.HConcatChart(...)"
      ]
     },
     "execution_count": 1,
     "metadata": {},
     "output_type": "execute_result"
    }
   ],
   "source": [
    "import altair as alt\n",
    "from vega_datasets import data\n",
    "\n",
    "iris = data.iris.url\n",
    "\n",
    "chart1 = alt.Chart(iris).mark_point().encode(\n",
    "    x=alt.X('petalLength:Q', axis=alt.Axis(domain=False, grid=False)),\n",
    "    y=alt.Y('petalWidth:Q', axis=alt.Axis(domain=False, grid=False)),\n",
    "    color='species:N'\n",
    ").properties(\n",
    "    height=200,\n",
    "    width=200\n",
    ")\n",
    "\n",
    "chart2 = alt.Chart(iris).mark_bar().encode(\n",
    "    x='count()',\n",
    "    y=alt.Y('petalWidth:Q').bin(maxbins=30),\n",
    "    color='species:N'\n",
    ").properties(\n",
    "    height=200,\n",
    "    width=100\n",
    ")\n",
    "\n",
    "chart1 | chart2"
   ]
  },
  {
   "cell_type": "code",
   "execution_count": 2,
   "metadata": {},
   "outputs": [
    {
     "ename": "ValueError",
     "evalue": "Objects with \"config\" attribute cannot be used within HConcatChart. Consider defining the config attribute in the HConcatChart object instead.",
     "output_type": "error",
     "traceback": [
      "\u001b[0;31m---------------------------------------------------------------------------\u001b[0m",
      "\u001b[0;31mValueError\u001b[0m                                Traceback (most recent call last)",
      "Cell \u001b[0;32mIn[2], line 1\u001b[0m\n\u001b[0;32m----> 1\u001b[0m chart1\u001b[39m.\u001b[39;49mconfigure_view(strokeWidth\u001b[39m=\u001b[39;49m\u001b[39m0\u001b[39;49m) \u001b[39m|\u001b[39;49m chart2\n",
      "File \u001b[0;32m~/.cache/pypoetry/virtualenvs/data-expressions-XOHyUNvQ-py3.10/lib/python3.10/site-packages/altair/vegalite/v5/api.py:972\u001b[0m, in \u001b[0;36mTopLevelMixin.__or__\u001b[0;34m(self, other)\u001b[0m\n\u001b[1;32m    970\u001b[0m \u001b[39mif\u001b[39;00m \u001b[39mnot\u001b[39;00m \u001b[39misinstance\u001b[39m(other, TopLevelMixin):\n\u001b[1;32m    971\u001b[0m     \u001b[39mraise\u001b[39;00m \u001b[39mValueError\u001b[39;00m(\u001b[39m\"\u001b[39m\u001b[39mOnly Chart objects can be concatenated.\u001b[39m\u001b[39m\"\u001b[39m)\n\u001b[0;32m--> 972\u001b[0m \u001b[39mreturn\u001b[39;00m hconcat(\u001b[39mself\u001b[39;49m, other)\n",
      "File \u001b[0;32m~/.cache/pypoetry/virtualenvs/data-expressions-XOHyUNvQ-py3.10/lib/python3.10/site-packages/altair/vegalite/v5/api.py:2897\u001b[0m, in \u001b[0;36mhconcat\u001b[0;34m(*charts, **kwargs)\u001b[0m\n\u001b[1;32m   2895\u001b[0m \u001b[39mdef\u001b[39;00m \u001b[39mhconcat\u001b[39m(\u001b[39m*\u001b[39mcharts, \u001b[39m*\u001b[39m\u001b[39m*\u001b[39mkwargs):\n\u001b[1;32m   2896\u001b[0m \u001b[39m    \u001b[39m\u001b[39m\"\"\"Concatenate charts horizontally\"\"\"\u001b[39;00m\n\u001b[0;32m-> 2897\u001b[0m     \u001b[39mreturn\u001b[39;00m HConcatChart(hconcat\u001b[39m=\u001b[39;49mcharts, \u001b[39m*\u001b[39;49m\u001b[39m*\u001b[39;49mkwargs)\n",
      "File \u001b[0;32m~/.cache/pypoetry/virtualenvs/data-expressions-XOHyUNvQ-py3.10/lib/python3.10/site-packages/altair/vegalite/v5/api.py:2836\u001b[0m, in \u001b[0;36mHConcatChart.__init__\u001b[0;34m(self, data, hconcat, **kwargs)\u001b[0m\n\u001b[1;32m   2832\u001b[0m \u001b[39m@utils\u001b[39m\u001b[39m.\u001b[39muse_signature(core\u001b[39m.\u001b[39mTopLevelHConcatSpec)\n\u001b[1;32m   2833\u001b[0m \u001b[39mdef\u001b[39;00m \u001b[39m__init__\u001b[39m(\u001b[39mself\u001b[39m, data\u001b[39m=\u001b[39mUndefined, hconcat\u001b[39m=\u001b[39m(), \u001b[39m*\u001b[39m\u001b[39m*\u001b[39mkwargs):\n\u001b[1;32m   2834\u001b[0m     \u001b[39m# TODO: move common data to top level?\u001b[39;00m\n\u001b[1;32m   2835\u001b[0m     \u001b[39mfor\u001b[39;00m spec \u001b[39min\u001b[39;00m hconcat:\n\u001b[0;32m-> 2836\u001b[0m         _check_if_valid_subspec(spec, \u001b[39m\"\u001b[39;49m\u001b[39mHConcatChart\u001b[39;49m\u001b[39m\"\u001b[39;49m)\n\u001b[1;32m   2837\u001b[0m     \u001b[39msuper\u001b[39m(HConcatChart, \u001b[39mself\u001b[39m)\u001b[39m.\u001b[39m\u001b[39m__init__\u001b[39m(data\u001b[39m=\u001b[39mdata, hconcat\u001b[39m=\u001b[39m\u001b[39mlist\u001b[39m(hconcat), \u001b[39m*\u001b[39m\u001b[39m*\u001b[39mkwargs)\n\u001b[1;32m   2838\u001b[0m     \u001b[39mself\u001b[39m\u001b[39m.\u001b[39mdata, \u001b[39mself\u001b[39m\u001b[39m.\u001b[39mhconcat \u001b[39m=\u001b[39m _combine_subchart_data(\u001b[39mself\u001b[39m\u001b[39m.\u001b[39mdata, \u001b[39mself\u001b[39m\u001b[39m.\u001b[39mhconcat)\n",
      "File \u001b[0;32m~/.cache/pypoetry/virtualenvs/data-expressions-XOHyUNvQ-py3.10/lib/python3.10/site-packages/altair/vegalite/v5/api.py:2586\u001b[0m, in \u001b[0;36m_check_if_valid_subspec\u001b[0;34m(spec, classname)\u001b[0m\n\u001b[1;32m   2584\u001b[0m     val \u001b[39m=\u001b[39m spec\u001b[39m.\u001b[39mget(attr, Undefined)\n\u001b[1;32m   2585\u001b[0m \u001b[39mif\u001b[39;00m val \u001b[39mis\u001b[39;00m \u001b[39mnot\u001b[39;00m Undefined:\n\u001b[0;32m-> 2586\u001b[0m     \u001b[39mraise\u001b[39;00m \u001b[39mValueError\u001b[39;00m(err\u001b[39m.\u001b[39mformat(attr, classname))\n",
      "\u001b[0;31mValueError\u001b[0m: Objects with \"config\" attribute cannot be used within HConcatChart. Consider defining the config attribute in the HConcatChart object instead."
     ]
    }
   ],
   "source": [
    "chart1.configure_view(strokeWidth=0) | chart2"
   ]
  },
  {
   "cell_type": "code",
   "execution_count": null,
   "metadata": {},
   "outputs": [
    {
     "data": {
      "text/html": [
       "\n",
       "<style>\n",
       "  #altair-viz-489d575594db4353a8fdcef187fc8769.vega-embed {\n",
       "    width: 100%;\n",
       "    display: flex;\n",
       "  }\n",
       "\n",
       "  #altair-viz-489d575594db4353a8fdcef187fc8769.vega-embed details,\n",
       "  #altair-viz-489d575594db4353a8fdcef187fc8769.vega-embed details summary {\n",
       "    position: relative;\n",
       "  }\n",
       "</style>\n",
       "<div id=\"altair-viz-489d575594db4353a8fdcef187fc8769\"></div>\n",
       "<script type=\"text/javascript\">\n",
       "  var VEGA_DEBUG = (typeof VEGA_DEBUG == \"undefined\") ? {} : VEGA_DEBUG;\n",
       "  (function(spec, embedOpt){\n",
       "    let outputDiv = document.currentScript.previousElementSibling;\n",
       "    if (outputDiv.id !== \"altair-viz-489d575594db4353a8fdcef187fc8769\") {\n",
       "      outputDiv = document.getElementById(\"altair-viz-489d575594db4353a8fdcef187fc8769\");\n",
       "    }\n",
       "    const paths = {\n",
       "      \"vega\": \"https://cdn.jsdelivr.net/npm/vega@5?noext\",\n",
       "      \"vega-lib\": \"https://cdn.jsdelivr.net/npm/vega-lib?noext\",\n",
       "      \"vega-lite\": \"https://cdn.jsdelivr.net/npm/vega-lite@5.8.0?noext\",\n",
       "      \"vega-embed\": \"https://cdn.jsdelivr.net/npm/vega-embed@6?noext\",\n",
       "    };\n",
       "\n",
       "    function maybeLoadScript(lib, version) {\n",
       "      var key = `${lib.replace(\"-\", \"\")}_version`;\n",
       "      return (VEGA_DEBUG[key] == version) ?\n",
       "        Promise.resolve(paths[lib]) :\n",
       "        new Promise(function(resolve, reject) {\n",
       "          var s = document.createElement('script');\n",
       "          document.getElementsByTagName(\"head\")[0].appendChild(s);\n",
       "          s.async = true;\n",
       "          s.onload = () => {\n",
       "            VEGA_DEBUG[key] = version;\n",
       "            return resolve(paths[lib]);\n",
       "          };\n",
       "          s.onerror = () => reject(`Error loading script: ${paths[lib]}`);\n",
       "          s.src = paths[lib];\n",
       "        });\n",
       "    }\n",
       "\n",
       "    function showError(err) {\n",
       "      outputDiv.innerHTML = `<div class=\"error\" style=\"color:red;\">${err}</div>`;\n",
       "      throw err;\n",
       "    }\n",
       "\n",
       "    function displayChart(vegaEmbed) {\n",
       "      vegaEmbed(outputDiv, spec, embedOpt)\n",
       "        .catch(err => showError(`Javascript Error: ${err.message}<br>This usually means there's a typo in your chart specification. See the javascript console for the full traceback.`));\n",
       "    }\n",
       "\n",
       "    if(typeof define === \"function\" && define.amd) {\n",
       "      requirejs.config({paths});\n",
       "      require([\"vega-embed\"], displayChart, err => showError(`Error loading script: ${err.message}`));\n",
       "    } else {\n",
       "      maybeLoadScript(\"vega\", \"5\")\n",
       "        .then(() => maybeLoadScript(\"vega-lite\", \"5.8.0\"))\n",
       "        .then(() => maybeLoadScript(\"vega-embed\", \"6\"))\n",
       "        .catch(showError)\n",
       "        .then(() => displayChart(vegaEmbed));\n",
       "    }\n",
       "  })({\"config\": {\"view\": {\"continuousWidth\": 300, \"continuousHeight\": 300}}, \"hconcat\": [{\"mark\": {\"type\": \"point\"}, \"encoding\": {\"color\": {\"field\": \"species\", \"type\": \"nominal\"}, \"x\": {\"axis\": {\"domain\": false, \"grid\": false}, \"field\": \"petalLength\", \"type\": \"quantitative\"}, \"y\": {\"axis\": {\"domain\": false, \"grid\": false}, \"field\": \"petalWidth\", \"type\": \"quantitative\"}}, \"height\": 200, \"view\": {\"strokeWidth\": 0}, \"width\": 200}, {\"mark\": {\"type\": \"bar\"}, \"encoding\": {\"color\": {\"field\": \"species\", \"type\": \"nominal\"}, \"x\": {\"aggregate\": \"count\", \"type\": \"quantitative\"}, \"y\": {\"bin\": {\"maxbins\": 30}, \"field\": \"petalWidth\", \"type\": \"quantitative\"}}, \"height\": 200, \"width\": 100}], \"data\": {\"url\": \"https://cdn.jsdelivr.net/npm/vega-datasets@v1.29.0/data/iris.json\"}, \"$schema\": \"https://vega.github.io/schema/vega-lite/v5.8.0.json\"}, {\"mode\": \"vega-lite\"});\n",
       "</script>"
      ],
      "text/plain": [
       "alt.HConcatChart(...)"
      ]
     },
     "execution_count": 4,
     "metadata": {},
     "output_type": "execute_result"
    }
   ],
   "source": [
    "chart1.view = {'strokeWidth': 0}\n",
    "\n",
    "chart1 | chart2"
   ]
  },
  {
   "cell_type": "code",
   "execution_count": null,
   "metadata": {},
   "outputs": [],
   "source": [
    "(chart1 | chart2).save(\"test.html\")"
   ]
  },
  {
   "cell_type": "code",
   "execution_count": null,
   "metadata": {},
   "outputs": [],
   "source": []
  }
 ],
 "metadata": {
  "kernelspec": {
   "display_name": "data-expressions-XOHyUNvQ-py3.10",
   "language": "python",
   "name": "python3"
  },
  "language_info": {
   "codemirror_mode": {
    "name": "ipython",
    "version": 3
   },
   "file_extension": ".py",
   "mimetype": "text/x-python",
   "name": "python",
   "nbconvert_exporter": "python",
   "pygments_lexer": "ipython3",
   "version": "3.10.8"
  },
  "orig_nbformat": 4
 },
 "nbformat": 4,
 "nbformat_minor": 2
}
