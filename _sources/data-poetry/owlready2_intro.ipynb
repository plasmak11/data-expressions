{
 "cells": [
  {
   "cell_type": "markdown",
   "metadata": {},
   "source": [
    "# Intro to Biomedical Ontologies: Owlready2\n",
    "\n",
    "Biomedical ontologies is generally a tough-to-approach field, starting with \"what is an ontology?\".\n",
    "\n",
    "I often reply to that with \"it's a hairball of knowledge.\" \n",
    "\n",
    "Imagine if someone/group decided to \"lets represent something close to a neuronal-connection of knowledge\".\n",
    "\n",
    "For me, I am not an ontologist (creating new ontologies). I consider myself one of the few people who can figure out how to leverage ontologies to achieve very specific biomedical and clinical tasks. "
   ]
  },
  {
   "cell_type": "code",
   "execution_count": 1,
   "metadata": {},
   "outputs": [],
   "source": [
    "import owlready2\n",
    "\n",
    "hpo = owlready2.get_ontology(\"http://purl.obolibrary.org/obo/hp.owl\").load()\n",
    "# mondo = owlready2.get_ontology(\"http://purl.obolibrary.org/obo/mondo.owl\").load()\n",
    "# efo = owlready2.get_ontology(\"http://www.ebi.ac.uk/efo/efo.owl\").load()\n"
   ]
  },
  {
   "cell_type": "code",
   "execution_count": 100,
   "metadata": {},
   "outputs": [],
   "source": [
    "search_term = \"moyamoya\"\n",
    "\n",
    "# Crude searcher\n",
    "def obo_searcher(ontology, search_term):\n",
    "    mondo_results = ontology.search(label = f\"*{search_term}*\", _case_sensitive=False)\n",
    "    data = [{\n",
    "        \"concept\": x,\n",
    "        \"label\": x.label,\n",
    "        \"iri\": x.iri,\n",
    "        \"synonyms\": x.hasExactSynonym,\n",
    "        \"name\": x.name,\n",
    "        \"subclasses\": list(x.subclasses()),\n",
    "        \"xrefs\": x.hasDbXref\n",
    "    } for x in mondo_results if str(x.label)]\n",
    "\n",
    "    return (data)\n"
   ]
  },
  {
   "cell_type": "code",
   "execution_count": 101,
   "metadata": {},
   "outputs": [],
   "source": [
    "results = obo_searcher(hpo, search_term)"
   ]
  },
  {
   "cell_type": "markdown",
   "metadata": {},
   "source": [
    "# Results: List of dictionary of ontology concepts and metadata"
   ]
  },
  {
   "cell_type": "code",
   "execution_count": 102,
   "metadata": {},
   "outputs": [
    {
     "data": {
      "text/plain": [
       "[{'concept': obo.HP_0011834,\n",
       "  'label': ['Moyamoya phenomenon'],\n",
       "  'iri': 'http://purl.obolibrary.org/obo/HP_0011834',\n",
       "  'synonyms': [],\n",
       "  'name': 'HP_0011834',\n",
       "  'subclasses': [],\n",
       "  'xrefs': ['UMLS:C4023169']}]"
      ]
     },
     "execution_count": 102,
     "metadata": {},
     "output_type": "execute_result"
    }
   ],
   "source": [
    "results"
   ]
  },
  {
   "cell_type": "markdown",
   "metadata": {},
   "source": [
    "## Check one concept"
   ]
  },
  {
   "cell_type": "code",
   "execution_count": 103,
   "metadata": {},
   "outputs": [
    {
     "data": {
      "text/plain": [
       "[{'concept': obo.HP_0011834,\n",
       "  'label': ['Moyamoya phenomenon'],\n",
       "  'iri': 'http://purl.obolibrary.org/obo/HP_0011834',\n",
       "  'synonyms': [],\n",
       "  'name': 'HP_0011834',\n",
       "  'subclasses': [],\n",
       "  'xrefs': ['UMLS:C4023169']}]"
      ]
     },
     "execution_count": 103,
     "metadata": {},
     "output_type": "execute_result"
    }
   ],
   "source": [
    "results"
   ]
  },
  {
   "cell_type": "code",
   "execution_count": 104,
   "metadata": {},
   "outputs": [
    {
     "data": {
      "text/plain": [
       "[]"
      ]
     },
     "execution_count": 104,
     "metadata": {},
     "output_type": "execute_result"
    }
   ],
   "source": [
    "results[0]['concept'].hasExactSynonym"
   ]
  },
  {
   "cell_type": "markdown",
   "metadata": {},
   "source": [
    "## Get `is_a` concepts"
   ]
  },
  {
   "cell_type": "code",
   "execution_count": 105,
   "metadata": {},
   "outputs": [
    {
     "data": {
      "text/plain": [
       "[['Abnormal cerebral artery morphology']]"
      ]
     },
     "execution_count": 105,
     "metadata": {},
     "output_type": "execute_result"
    }
   ],
   "source": [
    "is_a = results[0]['concept'].is_a\n",
    "\n",
    "# it returns a list, since \"stomach cancer\" can be multiple things\n",
    "[x.label for x in is_a]"
   ]
  },
  {
   "cell_type": "markdown",
   "metadata": {},
   "source": [
    "## Get all ancestors"
   ]
  },
  {
   "cell_type": "code",
   "execution_count": 106,
   "metadata": {},
   "outputs": [
    {
     "data": {
      "text/plain": [
       "[['Abnormality of cardiovascular system morphology'],\n",
       " ['Morphological central nervous system abnormality'],\n",
       " ['Abnormality of brain morphology'],\n",
       " ['Abnormal blood vessel morphology'],\n",
       " ['Abnormal cerebral artery morphology'],\n",
       " ['Abnormal systemic arterial morphology'],\n",
       " ['Abnormality of the cardiovascular system'],\n",
       " ['Abnormal cerebral vascular morphology'],\n",
       " ['Abnormality of the nervous system'],\n",
       " [],\n",
       " ['Phenotypic abnormality'],\n",
       " ['Moyamoya phenomenon'],\n",
       " ['Abnormal nervous system morphology'],\n",
       " ['All'],\n",
       " [locstr('Abnormal vascular morphology', 'en')],\n",
       " ['Abnormality of the vasculature']]"
      ]
     },
     "execution_count": 106,
     "metadata": {},
     "output_type": "execute_result"
    }
   ],
   "source": [
    "ancestors = results[0]['concept'].ancestors()\n",
    "\n",
    "# it returns a list of all ancestors\n",
    "[x.label for x in ancestors]"
   ]
  },
  {
   "cell_type": "markdown",
   "metadata": {},
   "source": [
    "## Get all descendants"
   ]
  },
  {
   "cell_type": "code",
   "execution_count": 107,
   "metadata": {},
   "outputs": [
    {
     "data": {
      "text/plain": [
       "[(['Moyamoya phenomenon'], 'HP_0011834')]"
      ]
     },
     "execution_count": 107,
     "metadata": {},
     "output_type": "execute_result"
    }
   ],
   "source": [
    "descendants = results[0]['concept'].descendants()\n",
    "\n",
    "# Descendants tends to return itself\n",
    "[(x.label, x.name) for x in descendants]"
   ]
  },
  {
   "cell_type": "markdown",
   "metadata": {},
   "source": [
    "## Get all Subclasses"
   ]
  },
  {
   "cell_type": "code",
   "execution_count": 108,
   "metadata": {},
   "outputs": [
    {
     "data": {
      "text/plain": [
       "[]"
      ]
     },
     "execution_count": 108,
     "metadata": {},
     "output_type": "execute_result"
    }
   ],
   "source": [
    "subclasses = results[0]['concept'].subclasses()\n",
    "\n",
    "# Descendants tends to return itself\n",
    "[(x.label, x.name) for x in subclasses]"
   ]
  },
  {
   "cell_type": "markdown",
   "metadata": {},
   "source": [
    "## Things to Note:\n",
    "\n",
    "- `label`: actually returns a list of the synonyms related\n",
    "- `iri`: unique ID for this concept\n",
    "- `name`: concept ID, Even though this is an HPO term, sometimes ontologies can reference external ontologies as part of the \"semantic web\" reference.\n",
    "- `xrefs`: Generally, `owlready2` has poor documentation, but it's a single person(?) effort (and I never personally contributed) for not the most approachable field, so give him some slack. But the oddly named `.hasDbXref` returns a list of external cross-walks, which is one of the more useful things to know."
   ]
  },
  {
   "cell_type": "code",
   "execution_count": 109,
   "metadata": {},
   "outputs": [],
   "source": [
    "def serialize_obo_subclass(item):\n",
    "    subclasses = item['subclasses'] \n",
    "    if len(subclasses) == 0:\n",
    "        return item\n",
    "    else: \n",
    "        serialized = [{\n",
    "            \"label\": subclass.label,\n",
    "            \"iri\": subclass.iri,\n",
    "            \"subclasses\": [x.name for x in list(subclass.subclasses())],\n",
    "            \"xrefs\": subclass.hasDbXref,\n",
    "        } for subclass in subclasses]\n",
    "        return serialized"
   ]
  },
  {
   "cell_type": "code",
   "execution_count": 110,
   "metadata": {},
   "outputs": [],
   "source": [
    "# serialized_result = [serialize_obo_subclass(item) for item in items]"
   ]
  },
  {
   "cell_type": "markdown",
   "metadata": {},
   "source": [
    "# TODO Visual Interface"
   ]
  },
  {
   "cell_type": "code",
   "execution_count": 111,
   "metadata": {},
   "outputs": [
    {
     "data": {
      "text/html": [
       "\n",
       "<style>\n",
       "  #altair-viz-e24b7ff1847443bdab4218db03dacec7.vega-embed {\n",
       "    width: 100%;\n",
       "    display: flex;\n",
       "  }\n",
       "\n",
       "  #altair-viz-e24b7ff1847443bdab4218db03dacec7.vega-embed details,\n",
       "  #altair-viz-e24b7ff1847443bdab4218db03dacec7.vega-embed details summary {\n",
       "    position: relative;\n",
       "  }\n",
       "</style>\n",
       "<div id=\"altair-viz-e24b7ff1847443bdab4218db03dacec7\"></div>\n",
       "<script type=\"text/javascript\">\n",
       "  var VEGA_DEBUG = (typeof VEGA_DEBUG == \"undefined\") ? {} : VEGA_DEBUG;\n",
       "  (function(spec, embedOpt){\n",
       "    let outputDiv = document.currentScript.previousElementSibling;\n",
       "    if (outputDiv.id !== \"altair-viz-e24b7ff1847443bdab4218db03dacec7\") {\n",
       "      outputDiv = document.getElementById(\"altair-viz-e24b7ff1847443bdab4218db03dacec7\");\n",
       "    }\n",
       "    const paths = {\n",
       "      \"vega\": \"https://cdn.jsdelivr.net/npm/vega@5?noext\",\n",
       "      \"vega-lib\": \"https://cdn.jsdelivr.net/npm/vega-lib?noext\",\n",
       "      \"vega-lite\": \"https://cdn.jsdelivr.net/npm/vega-lite@5.8.0?noext\",\n",
       "      \"vega-embed\": \"https://cdn.jsdelivr.net/npm/vega-embed@6?noext\",\n",
       "    };\n",
       "\n",
       "    function maybeLoadScript(lib, version) {\n",
       "      var key = `${lib.replace(\"-\", \"\")}_version`;\n",
       "      return (VEGA_DEBUG[key] == version) ?\n",
       "        Promise.resolve(paths[lib]) :\n",
       "        new Promise(function(resolve, reject) {\n",
       "          var s = document.createElement('script');\n",
       "          document.getElementsByTagName(\"head\")[0].appendChild(s);\n",
       "          s.async = true;\n",
       "          s.onload = () => {\n",
       "            VEGA_DEBUG[key] = version;\n",
       "            return resolve(paths[lib]);\n",
       "          };\n",
       "          s.onerror = () => reject(`Error loading script: ${paths[lib]}`);\n",
       "          s.src = paths[lib];\n",
       "        });\n",
       "    }\n",
       "\n",
       "    function showError(err) {\n",
       "      outputDiv.innerHTML = `<div class=\"error\" style=\"color:red;\">${err}</div>`;\n",
       "      throw err;\n",
       "    }\n",
       "\n",
       "    function displayChart(vegaEmbed) {\n",
       "      vegaEmbed(outputDiv, spec, embedOpt)\n",
       "        .catch(err => showError(`Javascript Error: ${err.message}<br>This usually means there's a typo in your chart specification. See the javascript console for the full traceback.`));\n",
       "    }\n",
       "\n",
       "    if(typeof define === \"function\" && define.amd) {\n",
       "      requirejs.config({paths});\n",
       "      require([\"vega-embed\"], displayChart, err => showError(`Error loading script: ${err.message}`));\n",
       "    } else {\n",
       "      maybeLoadScript(\"vega\", \"5\")\n",
       "        .then(() => maybeLoadScript(\"vega-lite\", \"5.8.0\"))\n",
       "        .then(() => maybeLoadScript(\"vega-embed\", \"6\"))\n",
       "        .catch(showError)\n",
       "        .then(() => displayChart(vegaEmbed));\n",
       "    }\n",
       "  })({\"config\": {\"view\": {\"continuousWidth\": 300, \"continuousHeight\": 300}}, \"data\": {\"name\": \"empty\"}, \"mark\": {\"type\": \"point\", \"size\": 60}, \"encoding\": {\"tooltip\": {\"field\": \"Name\", \"type\": \"nominal\"}, \"x\": {\"field\": \"Horsepower\", \"type\": \"quantitative\"}, \"y\": {\"field\": \"Miles_per_Gallon\", \"type\": \"quantitative\"}}, \"params\": [{\"name\": \"param_5\", \"bind\": {\"input\": \"search\", \"placeholder\": \"Diseases/symtoms\", \"name\": \"Search \"}, \"value\": \"\"}], \"$schema\": \"https://vega.github.io/schema/vega-lite/v5.8.0.json\", \"datasets\": {\"empty\": [{}]}}, {\"mode\": \"vega-lite\"});\n",
       "</script>"
      ],
      "text/plain": [
       "alt.Chart(...)"
      ]
     },
     "execution_count": 111,
     "metadata": {},
     "output_type": "execute_result"
    }
   ],
   "source": [
    "import altair as alt\n",
    "\n",
    "\n",
    "search_input = alt.param(\n",
    "    value='',\n",
    "    bind=alt.binding(\n",
    "        input='search',\n",
    "        placeholder=\"Diseases/symtoms\",\n",
    "        name='Search ',\n",
    "    )\n",
    ")\n",
    "alt.Chart().mark_point(size=60).encode(\n",
    "    x='x:Q',\n",
    "    y='y:Q',\n",
    "    # tooltip='Name:N',\n",
    "    # opacity=alt.condition(\n",
    "    #     alt.expr.test(alt.expr.regexp(search_input, 'i'), alt.datum.all_labels),\n",
    "    #     alt.value(1),\n",
    "    #     alt.value(0.05)\n",
    "    # )\n",
    ").add_params(\n",
    "    search_input\n",
    ")"
   ]
  },
  {
   "cell_type": "markdown",
   "metadata": {},
   "source": []
  }
 ],
 "metadata": {
  "kernelspec": {
   "display_name": "data-expressions-XOHyUNvQ-py3.10",
   "language": "python",
   "name": "python3"
  },
  "language_info": {
   "codemirror_mode": {
    "name": "ipython",
    "version": 3
   },
   "file_extension": ".py",
   "mimetype": "text/x-python",
   "name": "python",
   "nbconvert_exporter": "python",
   "pygments_lexer": "ipython3",
   "version": "3.10.8"
  },
  "orig_nbformat": 4
 },
 "nbformat": 4,
 "nbformat_minor": 2
}
