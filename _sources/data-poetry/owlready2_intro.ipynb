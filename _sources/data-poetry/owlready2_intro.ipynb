{
 "cells": [
  {
   "cell_type": "markdown",
   "metadata": {},
   "source": [
    "# Intro to Biomedical Ontologies: Owlready2\n",
    "\n",
    "Biomedical ontologies is generally a tough-to-approach field, starting with \"what is an ontology?\".\n",
    "\n",
    "I often reply to that with \"it's a hairball of knowledge.\" \n",
    "\n",
    "Imagine if someone/group decided to \"lets represent something close to a neuronal-connection of knowledge\".\n",
    "\n",
    "For me, I am not an ontologist (creating new ontologies). I consider myself one of the few people who can figure out how to leverage ontologies to achieve very specific biomedical and clinical tasks. "
   ]
  },
  {
   "cell_type": "code",
   "execution_count": 1,
   "metadata": {},
   "outputs": [],
   "source": [
    "import owlready2\n",
    "\n",
    "hpo = owlready2.get_ontology(\"http://purl.obolibrary.org/obo/hp.owl\").load()\n",
    "# mondo = owlready2.get_ontology(\"http://purl.obolibrary.org/obo/mondo.owl\").load()\n",
    "# efo = owlready2.get_ontology(\"http://www.ebi.ac.uk/efo/efo.owl\").load()\n"
   ]
  },
  {
   "cell_type": "code",
   "execution_count": 100,
   "metadata": {},
   "outputs": [],
   "source": [
    "search_term = \"moyamoya\"\n",
    "\n",
    "# Crude searcher\n",
    "def obo_searcher(ontology, search_term):\n",
    "    mondo_results = ontology.search(label = f\"*{search_term}*\", _case_sensitive=False)\n",
    "    data = [{\n",
    "        \"concept\": x,\n",
    "        \"label\": x.label,\n",
    "        \"iri\": x.iri,\n",
    "        \"synonyms\": x.hasExactSynonym,\n",
    "        \"name\": x.name,\n",
    "        \"subclasses\": list(x.subclasses()),\n",
    "        \"xrefs\": x.hasDbXref\n",
    "    } for x in mondo_results if str(x.label)]\n",
    "\n",
    "    return (data)\n"
   ]
  },
  {
   "cell_type": "code",
   "execution_count": 101,
   "metadata": {},
   "outputs": [],
   "source": [
    "results = obo_searcher(hpo, search_term)"
   ]
  },
  {
   "cell_type": "markdown",
   "metadata": {},
   "source": [
    "# Results: List of dictionary of ontology concepts and metadata"
   ]
  },
  {
   "cell_type": "code",
   "execution_count": 102,
   "metadata": {},
   "outputs": [
    {
     "data": {
      "text/plain": [
       "[{'concept': obo.HP_0011834,\n",
       "  'label': ['Moyamoya phenomenon'],\n",
       "  'iri': 'http://purl.obolibrary.org/obo/HP_0011834',\n",
       "  'synonyms': [],\n",
       "  'name': 'HP_0011834',\n",
       "  'subclasses': [],\n",
       "  'xrefs': ['UMLS:C4023169']}]"
      ]
     },
     "execution_count": 102,
     "metadata": {},
     "output_type": "execute_result"
    }
   ],
   "source": [
    "results"
   ]
  },
  {
   "cell_type": "markdown",
   "metadata": {},
   "source": [
    "## Check one concept"
   ]
  },
  {
   "cell_type": "code",
   "execution_count": 103,
   "metadata": {},
   "outputs": [
    {
     "data": {
      "text/plain": [
       "[{'concept': obo.HP_0011834,\n",
       "  'label': ['Moyamoya phenomenon'],\n",
       "  'iri': 'http://purl.obolibrary.org/obo/HP_0011834',\n",
       "  'synonyms': [],\n",
       "  'name': 'HP_0011834',\n",
       "  'subclasses': [],\n",
       "  'xrefs': ['UMLS:C4023169']}]"
      ]
     },
     "execution_count": 103,
     "metadata": {},
     "output_type": "execute_result"
    }
   ],
   "source": [
    "results"
   ]
  },
  {
   "cell_type": "code",
   "execution_count": 104,
   "metadata": {},
   "outputs": [
    {
     "data": {
      "text/plain": [
       "[]"
      ]
     },
     "execution_count": 104,
     "metadata": {},
     "output_type": "execute_result"
    }
   ],
   "source": [
    "results[0]['concept'].hasExactSynonym"
   ]
  },
  {
   "cell_type": "markdown",
   "metadata": {},
   "source": [
    "## Get `is_a` concepts"
   ]
  },
  {
   "cell_type": "code",
   "execution_count": 105,
   "metadata": {},
   "outputs": [
    {
     "data": {
      "text/plain": [
       "[['Abnormal cerebral artery morphology']]"
      ]
     },
     "execution_count": 105,
     "metadata": {},
     "output_type": "execute_result"
    }
   ],
   "source": [
    "is_a = results[0]['concept'].is_a\n",
    "\n",
    "# it returns a list, since \"stomach cancer\" can be multiple things\n",
    "[x.label for x in is_a]"
   ]
  },
  {
   "cell_type": "markdown",
   "metadata": {},
   "source": [
    "## Get all ancestors"
   ]
  },
  {
   "cell_type": "code",
   "execution_count": 106,
   "metadata": {},
   "outputs": [
    {
     "data": {
      "text/plain": [
       "[['Abnormality of cardiovascular system morphology'],\n",
       " ['Morphological central nervous system abnormality'],\n",
       " ['Abnormality of brain morphology'],\n",
       " ['Abnormal blood vessel morphology'],\n",
       " ['Abnormal cerebral artery morphology'],\n",
       " ['Abnormal systemic arterial morphology'],\n",
       " ['Abnormality of the cardiovascular system'],\n",
       " ['Abnormal cerebral vascular morphology'],\n",
       " ['Abnormality of the nervous system'],\n",
       " [],\n",
       " ['Phenotypic abnormality'],\n",
       " ['Moyamoya phenomenon'],\n",
       " ['Abnormal nervous system morphology'],\n",
       " ['All'],\n",
       " [locstr('Abnormal vascular morphology', 'en')],\n",
       " ['Abnormality of the vasculature']]"
      ]
     },
     "execution_count": 106,
     "metadata": {},
     "output_type": "execute_result"
    }
   ],
   "source": [
    "ancestors = results[0]['concept'].ancestors()\n",
    "\n",
    "# it returns a list of all ancestors\n",
    "[x.label for x in ancestors]"
   ]
  },
  {
   "cell_type": "markdown",
   "metadata": {},
   "source": [
    "## Get all descendants"
   ]
  },
  {
   "cell_type": "code",
   "execution_count": 107,
   "metadata": {},
   "outputs": [
    {
     "data": {
      "text/plain": [
       "[(['Moyamoya phenomenon'], 'HP_0011834')]"
      ]
     },
     "execution_count": 107,
     "metadata": {},
     "output_type": "execute_result"
    }
   ],
   "source": [
    "descendants = results[0]['concept'].descendants()\n",
    "\n",
    "# Descendants tends to return itself\n",
    "[(x.label, x.name) for x in descendants]"
   ]
  },
  {
   "cell_type": "markdown",
   "metadata": {},
   "source": [
    "## Get all Subclasses"
   ]
  },
  {
   "cell_type": "code",
   "execution_count": 108,
   "metadata": {},
   "outputs": [
    {
     "data": {
      "text/plain": [
       "[]"
      ]
     },
     "execution_count": 108,
     "metadata": {},
     "output_type": "execute_result"
    }
   ],
   "source": [
    "subclasses = results[0]['concept'].subclasses()\n",
    "\n",
    "# Descendants tends to return itself\n",
    "[(x.label, x.name) for x in subclasses]"
   ]
  },
  {
   "cell_type": "markdown",
   "metadata": {},
   "source": [
    "## Things to Note:\n",
    "\n",
    "- `label`: actually returns a list of the synonyms related\n",
    "- `iri`: unique ID for this concept\n",
    "- `name`: concept ID, Even though this is an HPO term, sometimes ontologies can reference external ontologies as part of the \"semantic web\" reference.\n",
    "- `xrefs`: Generally, `owlready2` has poor documentation, but it's a single person(?) effort (and I never personally contributed) for not the most approachable field, so give him some slack. But the oddly named `.hasDbXref` returns a list of external cross-walks, which is one of the more useful things to know."
   ]
  },
  {
   "cell_type": "markdown",
   "metadata": {},
   "source": [
    "# TODO Visual Interface"
   ]
  },
  {
   "cell_type": "markdown",
   "metadata": {},
   "source": []
  },
  {
   "cell_type": "code",
   "execution_count": 112,
   "metadata": {},
   "outputs": [
    {
     "data": {
      "text/plain": [
       "[{'concept': obo.HP_0011834,\n",
       "  'label': ['Moyamoya phenomenon'],\n",
       "  'iri': 'http://purl.obolibrary.org/obo/HP_0011834',\n",
       "  'synonyms': [],\n",
       "  'name': 'HP_0011834',\n",
       "  'subclasses': [],\n",
       "  'xrefs': ['UMLS:C4023169']}]"
      ]
     },
     "execution_count": 112,
     "metadata": {},
     "output_type": "execute_result"
    }
   ],
   "source": [
    "results[0]"
   ]
  },
  {
   "cell_type": "markdown",
   "metadata": {},
   "source": [
    "# It's hard to work with python objects\n",
    "\n",
    "For my mission - I want to try to create various plots using Altair. \n",
    "\n",
    "Plotting libraries don't know what to do with python objects.\n",
    "\n",
    "Generally needs to more primitive data types - convert everything to string in our case."
   ]
  },
  {
   "cell_type": "code",
   "execution_count": 116,
   "metadata": {},
   "outputs": [
    {
     "data": {
      "text/plain": [
       "[{'concept': obo.HP_0011834,\n",
       "  'label': ['Moyamoya phenomenon'],\n",
       "  'iri': 'http://purl.obolibrary.org/obo/HP_0011834',\n",
       "  'synonyms': [],\n",
       "  'name': 'HP_0011834',\n",
       "  'subclasses': [],\n",
       "  'xrefs': ['UMLS:C4023169']}]"
      ]
     },
     "execution_count": 116,
     "metadata": {},
     "output_type": "execute_result"
    }
   ],
   "source": [
    "results"
   ]
  },
  {
   "cell_type": "code",
   "execution_count": 137,
   "metadata": {},
   "outputs": [],
   "source": [
    "\n",
    "def sanitize(v):\n",
    "  if isinstance(v, list):\n",
    "    return [str(x) for x in v]\n",
    "  elif isinstance(v, dict):\n",
    "    return sanitize(v)\n",
    "  else:\n",
    "    return str(v)\n",
    "\n",
    "def sanitize_results(data):\n",
    "    for d in data:\n",
    "        for k, v in d.items():\n",
    "            d[k] = sanitize(v)\n",
    "    return data\n",
    "\n"
   ]
  },
  {
   "cell_type": "code",
   "execution_count": 139,
   "metadata": {},
   "outputs": [
    {
     "data": {
      "text/html": [
       "<div><style>\n",
       ".dataframe > thead > tr > th,\n",
       ".dataframe > tbody > tr > td {\n",
       "  text-align: right;\n",
       "}\n",
       "</style>\n",
       "<small>shape: (1, 7)</small><table border=\"1\" class=\"dataframe\"><thead><tr><th>concept</th><th>label</th><th>iri</th><th>synonyms</th><th>name</th><th>subclasses</th><th>xrefs</th></tr><tr><td>str</td><td>str</td><td>str</td><td>str</td><td>str</td><td>str</td><td>str</td></tr></thead><tbody><tr><td>&quot;obo.HP_0011834…</td><td>&quot;Moyamoya pheno…</td><td>&quot;http://purl.ob…</td><td>&quot;&quot;</td><td>&quot;HP_0011834&quot;</td><td>&quot;&quot;</td><td>&quot;UMLS:C4023169&quot;</td></tr></tbody></table></div>"
      ],
      "text/plain": [
       "shape: (1, 7)\n",
       "┌───────────────┬───────────────┬──────────────┬──────────┬────────────┬────────────┬──────────────┐\n",
       "│ concept       ┆ label         ┆ iri          ┆ synonyms ┆ name       ┆ subclasses ┆ xrefs        │\n",
       "│ ---           ┆ ---           ┆ ---          ┆ ---      ┆ ---        ┆ ---        ┆ ---          │\n",
       "│ str           ┆ str           ┆ str          ┆ str      ┆ str        ┆ str        ┆ str          │\n",
       "╞═══════════════╪═══════════════╪══════════════╪══════════╪════════════╪════════════╪══════════════╡\n",
       "│ obo.HP_001183 ┆ Moyamoya      ┆ http://purl. ┆          ┆ HP_0011834 ┆            ┆ UMLS:C402316 │\n",
       "│ 4             ┆ phenomenon    ┆ obolibrary.o ┆          ┆            ┆            ┆ 9            │\n",
       "│               ┆               ┆ rg/obo/H…    ┆          ┆            ┆            ┆              │\n",
       "└───────────────┴───────────────┴──────────────┴──────────┴────────────┴────────────┴──────────────┘"
      ]
     },
     "execution_count": 139,
     "metadata": {},
     "output_type": "execute_result"
    }
   ],
   "source": [
    "import polars as pl\n",
    "sanitized_results = sanitize_results(results)\n",
    "pl.from_dicts(sanitized_results)"
   ]
  },
  {
   "cell_type": "code",
   "execution_count": 140,
   "metadata": {},
   "outputs": [
    {
     "name": "stdout",
     "output_type": "stream",
     "text": [
      "[{'concept': 'obo.HP_0011834',\n",
      "  'iri': 'http://purl.obolibrary.org/obo/HP_0011834',\n",
      "  'label': 'Moyamoya phenomenon',\n",
      "  'name': 'HP_0011834',\n",
      "  'subclasses': '',\n",
      "  'synonyms': '',\n",
      "  'xrefs': 'UMLS:C4023169'}]\n"
     ]
    }
   ],
   "source": [
    "from pprint import pprint\n",
    "\n",
    "pprint(sanitized_results)"
   ]
  },
  {
   "cell_type": "markdown",
   "metadata": {},
   "source": [
    "# Test Drive it out with bigger use case"
   ]
  },
  {
   "cell_type": "code",
   "execution_count": 144,
   "metadata": {},
   "outputs": [],
   "source": [
    "import polars as pl\n",
    "sanitized_results = sanitize_results(obo_searcher(hpo, \"diabetes\"))\n",
    "df = pl.from_dicts(sanitized_results)"
   ]
  },
  {
   "cell_type": "code",
   "execution_count": 145,
   "metadata": {},
   "outputs": [
    {
     "data": {
      "text/html": [
       "<div><style>\n",
       ".dataframe > thead > tr > th,\n",
       ".dataframe > tbody > tr > td {\n",
       "  text-align: right;\n",
       "}\n",
       "</style>\n",
       "<small>shape: (13, 7)</small><table border=\"1\" class=\"dataframe\"><thead><tr><th>concept</th><th>label</th><th>iri</th><th>synonyms</th><th>name</th><th>subclasses</th><th>xrefs</th></tr><tr><td>str</td><td>list[str]</td><td>str</td><td>list[str]</td><td>str</td><td>list[str]</td><td>list[str]</td></tr></thead><tbody><tr><td>&quot;obo.HP_0000819…</td><td>[&quot;Diabetes mellitus&quot;]</td><td>&quot;http://purl.ob…</td><td>[]</td><td>&quot;HP_0000819&quot;</td><td>[&quot;obo.HP_0000831&quot;, &quot;obo.HP_0001953&quot;, … &quot;obo.HP_0100651&quot;]</td><td>[&quot;MSH:D003920&quot;, &quot;SNOMEDCT_US:73211009&quot;, &quot;UMLS:C0011849&quot;]</td></tr><tr><td>&quot;obo.HP_0000831…</td><td>[&quot;Insulin-resistant diabetes mellitus&quot;]</td><td>&quot;http://purl.ob…</td><td>[&quot;Insulin resistant diabetes&quot;, &quot;Insulin resistant diabetes mellitus&quot;, &quot;Insulin-resistant diabetes&quot;]</td><td>&quot;HP_0000831&quot;</td><td>[&quot;obo.HP_0000857&quot;, &quot;obo.HP_0000877&quot;]</td><td>[&quot;UMLS:C0854110&quot;]</td></tr><tr><td>&quot;obo.HP_0000857…</td><td>[&quot;Neonatal insulin-dependent diabetes mellitus&quot;]</td><td>&quot;http://purl.ob…</td><td>[]</td><td>&quot;HP_0000857&quot;</td><td>[&quot;obo.HP_0008255&quot;]</td><td>[&quot;UMLS:C3278636&quot;]</td></tr><tr><td>&quot;obo.HP_0000863…</td><td>[&quot;Central diabetes insipidus&quot;]</td><td>&quot;http://purl.ob…</td><td>[&quot;Neurohypophyseal diabetes insipidus&quot;]</td><td>&quot;HP_0000863&quot;</td><td>[]</td><td>[&quot;MSH:D020790&quot;, &quot;SNOMEDCT_US:45369008&quot;, &quot;UMLS:C0687720&quot;]</td></tr><tr><td>&quot;obo.HP_0000873…</td><td>[&quot;Diabetes insipidus&quot;]</td><td>&quot;http://purl.ob…</td><td>[]</td><td>&quot;HP_0000873&quot;</td><td>[&quot;obo.HP_0000863&quot;, &quot;obo.HP_0009806&quot;]</td><td>[&quot;MSH:D003919&quot;, &quot;SNOMEDCT_US:15771004&quot;, &quot;UMLS:C0011848&quot;]</td></tr><tr><td>&quot;obo.HP_0000877…</td><td>[&quot;Insulin-resistant diabetes mellitus at puberty&quot;]</td><td>&quot;http://purl.ob…</td><td>[&quot;Insulin-resistant diabetes mellitus at puberty&quot;]</td><td>&quot;HP_0000877&quot;</td><td>[]</td><td>[&quot;UMLS:C1837792&quot;]</td></tr><tr><td>&quot;obo.HP_0004904…</td><td>[&quot;Maturity-onset diabetes of the young&quot;]</td><td>&quot;http://purl.ob…</td><td>[&quot;Maturity onset diabetes of the young&quot;]</td><td>&quot;HP_0004904&quot;</td><td>[]</td><td>[&quot;MSH:C562772&quot;, &quot;SNOMEDCT_US:609561005&quot;, &quot;UMLS:C0342276&quot;]</td></tr><tr><td>&quot;obo.HP_0005978…</td><td>[&quot;Type II diabetes mellitus&quot;]</td><td>&quot;http://purl.ob…</td><td>[&quot;Diabetes mellitus Type II&quot;, &quot;Diabetes mellitus, noninsulin-dependent&quot;, … &quot;Type II diabetes&quot;]</td><td>&quot;HP_0005978&quot;</td><td>[&quot;obo.HP_0008205&quot;]</td><td>[&quot;MSH:D003924&quot;, &quot;SNOMEDCT_US:44054006&quot;, &quot;UMLS:C0011860&quot;]</td></tr><tr><td>&quot;obo.HP_0008205…</td><td>[&quot;Insulin-dependent but ketosis-resistant diabetes&quot;]</td><td>&quot;http://purl.ob…</td><td>[]</td><td>&quot;HP_0008205&quot;</td><td>[]</td><td>[&quot;UMLS:C1842404&quot;]</td></tr><tr><td>&quot;obo.HP_0008255…</td><td>[&quot;Transient neonatal diabetes mellitus&quot;]</td><td>&quot;http://purl.ob…</td><td>[]</td><td>&quot;HP_0008255&quot;</td><td>[]</td><td>[&quot;SNOMEDCT_US:237603002&quot;, &quot;UMLS:C0342273&quot;]</td></tr><tr><td>&quot;obo.HP_0009800…</td><td>[&quot;Maternal diabetes&quot;]</td><td>&quot;http://purl.ob…</td><td>[&quot;Maternal diabetes&quot;, &quot;gestational diabetes&quot;]</td><td>&quot;HP_0009800&quot;</td><td>[]</td><td>[&quot;MSH:D016640&quot;, &quot;SNOMEDCT_US:11687002&quot;, … &quot;UMLS:C4020778&quot;]</td></tr><tr><td>&quot;obo.HP_0009806…</td><td>[&quot;Nephrogenic diabetes insipidus&quot;]</td><td>&quot;http://purl.ob…</td><td>[]</td><td>&quot;HP_0009806&quot;</td><td>[]</td><td>[&quot;MSH:D018500&quot;, &quot;SNOMEDCT_US:111395007&quot;, &quot;UMLS:C0162283&quot;]</td></tr><tr><td>&quot;obo.HP_0100651…</td><td>[&quot;Type I diabetes mellitus&quot;]</td><td>&quot;http://purl.ob…</td><td>[&quot;Diabetes mellitus Type I&quot;, &quot;Juvenile diabetes mellitus&quot;, … &quot;Type I diabetes&quot;]</td><td>&quot;HP_0100651&quot;</td><td>[]</td><td>[&quot;MSH:D003922&quot;, &quot;SNOMEDCT_US:46635009&quot;, &quot;UMLS:C0011854&quot;]</td></tr></tbody></table></div>"
      ],
      "text/plain": [
       "shape: (13, 7)\n",
       "┌──────────────┬──────────────┬─────────────┬─────────────┬────────────┬─────────────┬─────────────┐\n",
       "│ concept      ┆ label        ┆ iri         ┆ synonyms    ┆ name       ┆ subclasses  ┆ xrefs       │\n",
       "│ ---          ┆ ---          ┆ ---         ┆ ---         ┆ ---        ┆ ---         ┆ ---         │\n",
       "│ str          ┆ list[str]    ┆ str         ┆ list[str]   ┆ str        ┆ list[str]   ┆ list[str]   │\n",
       "╞══════════════╪══════════════╪═════════════╪═════════════╪════════════╪═════════════╪═════════════╡\n",
       "│ obo.HP_00008 ┆ [\"Diabetes   ┆ http://purl ┆ []          ┆ HP_0000819 ┆ [\"obo.HP_00 ┆ [\"MSH:D0039 │\n",
       "│ 19           ┆ mellitus\"]   ┆ .obolibrary ┆             ┆            ┆ 00831\", \"ob ┆ 20\", \"SNOME │\n",
       "│              ┆              ┆ .org/obo/H… ┆             ┆            ┆ o.HP_00019… ┆ DCT_US:732… │\n",
       "│ obo.HP_00008 ┆ [\"Insulin-re ┆ http://purl ┆ [\"Insulin   ┆ HP_0000831 ┆ [\"obo.HP_00 ┆ [\"UMLS:C085 │\n",
       "│ 31           ┆ sistant      ┆ .obolibrary ┆ resistant   ┆            ┆ 00857\", \"ob ┆ 4110\"]      │\n",
       "│              ┆ diabetes     ┆ .org/obo/H… ┆ diabetes\",  ┆            ┆ o.HP_00008… ┆             │\n",
       "│              ┆ mel…         ┆             ┆ \"…          ┆            ┆             ┆             │\n",
       "│ obo.HP_00008 ┆ [\"Neonatal   ┆ http://purl ┆ []          ┆ HP_0000857 ┆ [\"obo.HP_00 ┆ [\"UMLS:C327 │\n",
       "│ 57           ┆ insulin-depe ┆ .obolibrary ┆             ┆            ┆ 08255\"]     ┆ 8636\"]      │\n",
       "│              ┆ ndent dia…   ┆ .org/obo/H… ┆             ┆            ┆             ┆             │\n",
       "│ obo.HP_00008 ┆ [\"Central    ┆ http://purl ┆ [\"Neurohypo ┆ HP_0000863 ┆ []          ┆ [\"MSH:D0207 │\n",
       "│ 63           ┆ diabetes     ┆ .obolibrary ┆ physeal     ┆            ┆             ┆ 90\", \"SNOME │\n",
       "│              ┆ insipidus\"]  ┆ .org/obo/H… ┆ diabetes    ┆            ┆             ┆ DCT_US:453… │\n",
       "│              ┆              ┆             ┆ insi…       ┆            ┆             ┆             │\n",
       "│ …            ┆ …            ┆ …           ┆ …           ┆ …          ┆ …           ┆ …           │\n",
       "│ obo.HP_00082 ┆ [\"Transient  ┆ http://purl ┆ []          ┆ HP_0008255 ┆ []          ┆ [\"SNOMEDCT_ │\n",
       "│ 55           ┆ neonatal     ┆ .obolibrary ┆             ┆            ┆             ┆ US:23760300 │\n",
       "│              ┆ diabetes me… ┆ .org/obo/H… ┆             ┆            ┆             ┆ 2\", \"UMLS:… │\n",
       "│ obo.HP_00098 ┆ [\"Maternal   ┆ http://purl ┆ [\"Maternal  ┆ HP_0009800 ┆ []          ┆ [\"MSH:D0166 │\n",
       "│ 00           ┆ diabetes\"]   ┆ .obolibrary ┆ diabetes\",  ┆            ┆             ┆ 40\", \"SNOME │\n",
       "│              ┆              ┆ .org/obo/H… ┆ \"gestation… ┆            ┆             ┆ DCT_US:116… │\n",
       "│ obo.HP_00098 ┆ [\"Nephrogeni ┆ http://purl ┆ []          ┆ HP_0009806 ┆ []          ┆ [\"MSH:D0185 │\n",
       "│ 06           ┆ c diabetes   ┆ .obolibrary ┆             ┆            ┆             ┆ 00\", \"SNOME │\n",
       "│              ┆ insipidus…   ┆ .org/obo/H… ┆             ┆            ┆             ┆ DCT_US:111… │\n",
       "│ obo.HP_01006 ┆ [\"Type I     ┆ http://purl ┆ [\"Diabetes  ┆ HP_0100651 ┆ []          ┆ [\"MSH:D0039 │\n",
       "│ 51           ┆ diabetes     ┆ .obolibrary ┆ mellitus    ┆            ┆             ┆ 22\", \"SNOME │\n",
       "│              ┆ mellitus\"]   ┆ .org/obo/H… ┆ Type I\",    ┆            ┆             ┆ DCT_US:466… │\n",
       "│              ┆              ┆             ┆ \"Ju…        ┆            ┆             ┆             │\n",
       "└──────────────┴──────────────┴─────────────┴─────────────┴────────────┴─────────────┴─────────────┘"
      ]
     },
     "execution_count": 145,
     "metadata": {},
     "output_type": "execute_result"
    }
   ],
   "source": [
    "df"
   ]
  },
  {
   "cell_type": "code",
   "execution_count": 151,
   "metadata": {},
   "outputs": [
    {
     "data": {
      "text/html": [
       "\n",
       "<style>\n",
       "  #altair-viz-71fabac6f9ec4dbd927e3db45f6b16b4.vega-embed {\n",
       "    width: 100%;\n",
       "    display: flex;\n",
       "  }\n",
       "\n",
       "  #altair-viz-71fabac6f9ec4dbd927e3db45f6b16b4.vega-embed details,\n",
       "  #altair-viz-71fabac6f9ec4dbd927e3db45f6b16b4.vega-embed details summary {\n",
       "    position: relative;\n",
       "  }\n",
       "</style>\n",
       "<div id=\"altair-viz-71fabac6f9ec4dbd927e3db45f6b16b4\"></div>\n",
       "<script type=\"text/javascript\">\n",
       "  var VEGA_DEBUG = (typeof VEGA_DEBUG == \"undefined\") ? {} : VEGA_DEBUG;\n",
       "  (function(spec, embedOpt){\n",
       "    let outputDiv = document.currentScript.previousElementSibling;\n",
       "    if (outputDiv.id !== \"altair-viz-71fabac6f9ec4dbd927e3db45f6b16b4\") {\n",
       "      outputDiv = document.getElementById(\"altair-viz-71fabac6f9ec4dbd927e3db45f6b16b4\");\n",
       "    }\n",
       "    const paths = {\n",
       "      \"vega\": \"https://cdn.jsdelivr.net/npm/vega@5?noext\",\n",
       "      \"vega-lib\": \"https://cdn.jsdelivr.net/npm/vega-lib?noext\",\n",
       "      \"vega-lite\": \"https://cdn.jsdelivr.net/npm/vega-lite@5.8.0?noext\",\n",
       "      \"vega-embed\": \"https://cdn.jsdelivr.net/npm/vega-embed@6?noext\",\n",
       "    };\n",
       "\n",
       "    function maybeLoadScript(lib, version) {\n",
       "      var key = `${lib.replace(\"-\", \"\")}_version`;\n",
       "      return (VEGA_DEBUG[key] == version) ?\n",
       "        Promise.resolve(paths[lib]) :\n",
       "        new Promise(function(resolve, reject) {\n",
       "          var s = document.createElement('script');\n",
       "          document.getElementsByTagName(\"head\")[0].appendChild(s);\n",
       "          s.async = true;\n",
       "          s.onload = () => {\n",
       "            VEGA_DEBUG[key] = version;\n",
       "            return resolve(paths[lib]);\n",
       "          };\n",
       "          s.onerror = () => reject(`Error loading script: ${paths[lib]}`);\n",
       "          s.src = paths[lib];\n",
       "        });\n",
       "    }\n",
       "\n",
       "    function showError(err) {\n",
       "      outputDiv.innerHTML = `<div class=\"error\" style=\"color:red;\">${err}</div>`;\n",
       "      throw err;\n",
       "    }\n",
       "\n",
       "    function displayChart(vegaEmbed) {\n",
       "      vegaEmbed(outputDiv, spec, embedOpt)\n",
       "        .catch(err => showError(`Javascript Error: ${err.message}<br>This usually means there's a typo in your chart specification. See the javascript console for the full traceback.`));\n",
       "    }\n",
       "\n",
       "    if(typeof define === \"function\" && define.amd) {\n",
       "      requirejs.config({paths});\n",
       "      require([\"vega-embed\"], displayChart, err => showError(`Error loading script: ${err.message}`));\n",
       "    } else {\n",
       "      maybeLoadScript(\"vega\", \"5\")\n",
       "        .then(() => maybeLoadScript(\"vega-lite\", \"5.8.0\"))\n",
       "        .then(() => maybeLoadScript(\"vega-embed\", \"6\"))\n",
       "        .catch(showError)\n",
       "        .then(() => displayChart(vegaEmbed));\n",
       "    }\n",
       "  })({\"config\": {\"view\": {\"continuousWidth\": 300, \"continuousHeight\": 300}}, \"data\": {\"name\": \"data-821a917ba629671a418260d07d77b640\"}, \"mark\": {\"type\": \"rect\", \"size\": 60}, \"encoding\": {\"x\": {\"aggregate\": \"count\", \"field\": \"synonyms\", \"type\": \"quantitative\"}, \"y\": {\"field\": \"label\", \"type\": \"nominal\"}}, \"params\": [{\"name\": \"param_15\", \"bind\": {\"input\": \"search\", \"placeholder\": \"Diseases/symtoms\", \"name\": \"Search \"}, \"value\": \"\"}], \"transform\": [{\"flatten\": [\"label\"]}, {\"flatten\": [\"synonyms\"]}], \"$schema\": \"https://vega.github.io/schema/vega-lite/v5.8.0.json\", \"datasets\": {\"data-821a917ba629671a418260d07d77b640\": [{\"concept\": \"obo.HP_0000819\", \"label\": [\"Diabetes mellitus\"], \"iri\": \"http://purl.obolibrary.org/obo/HP_0000819\", \"synonyms\": [], \"name\": \"HP_0000819\", \"subclasses\": [\"obo.HP_0000831\", \"obo.HP_0001953\", \"obo.HP_0004904\", \"obo.HP_0005978\", \"obo.HP_0009800\", \"obo.HP_0100651\"], \"xrefs\": [\"MSH:D003920\", \"SNOMEDCT_US:73211009\", \"UMLS:C0011849\"]}, {\"concept\": \"obo.HP_0000831\", \"label\": [\"Insulin-resistant diabetes mellitus\"], \"iri\": \"http://purl.obolibrary.org/obo/HP_0000831\", \"synonyms\": [\"Insulin resistant diabetes\", \"Insulin resistant diabetes mellitus\", \"Insulin-resistant diabetes\"], \"name\": \"HP_0000831\", \"subclasses\": [\"obo.HP_0000857\", \"obo.HP_0000877\"], \"xrefs\": [\"UMLS:C0854110\"]}, {\"concept\": \"obo.HP_0000857\", \"label\": [\"Neonatal insulin-dependent diabetes mellitus\"], \"iri\": \"http://purl.obolibrary.org/obo/HP_0000857\", \"synonyms\": [], \"name\": \"HP_0000857\", \"subclasses\": [\"obo.HP_0008255\"], \"xrefs\": [\"UMLS:C3278636\"]}, {\"concept\": \"obo.HP_0000863\", \"label\": [\"Central diabetes insipidus\"], \"iri\": \"http://purl.obolibrary.org/obo/HP_0000863\", \"synonyms\": [\"Neurohypophyseal diabetes insipidus\"], \"name\": \"HP_0000863\", \"subclasses\": [], \"xrefs\": [\"MSH:D020790\", \"SNOMEDCT_US:45369008\", \"UMLS:C0687720\"]}, {\"concept\": \"obo.HP_0000873\", \"label\": [\"Diabetes insipidus\"], \"iri\": \"http://purl.obolibrary.org/obo/HP_0000873\", \"synonyms\": [], \"name\": \"HP_0000873\", \"subclasses\": [\"obo.HP_0000863\", \"obo.HP_0009806\"], \"xrefs\": [\"MSH:D003919\", \"SNOMEDCT_US:15771004\", \"UMLS:C0011848\"]}, {\"concept\": \"obo.HP_0000877\", \"label\": [\"Insulin-resistant diabetes mellitus at puberty\"], \"iri\": \"http://purl.obolibrary.org/obo/HP_0000877\", \"synonyms\": [\"Insulin-resistant diabetes mellitus at puberty\"], \"name\": \"HP_0000877\", \"subclasses\": [], \"xrefs\": [\"UMLS:C1837792\"]}, {\"concept\": \"obo.HP_0004904\", \"label\": [\"Maturity-onset diabetes of the young\"], \"iri\": \"http://purl.obolibrary.org/obo/HP_0004904\", \"synonyms\": [\"Maturity onset diabetes of the young\"], \"name\": \"HP_0004904\", \"subclasses\": [], \"xrefs\": [\"MSH:C562772\", \"SNOMEDCT_US:609561005\", \"UMLS:C0342276\"]}, {\"concept\": \"obo.HP_0005978\", \"label\": [\"Type II diabetes mellitus\"], \"iri\": \"http://purl.obolibrary.org/obo/HP_0005978\", \"synonyms\": [\"Diabetes mellitus Type II\", \"Diabetes mellitus, noninsulin-dependent\", \"NIDDM\", \"NIDDM diabetes mellitus\", \"Non-insulin dependent diabetes\", \"Noninsulin dependent diabetes mellitus\", \"Noninsulin-dependent diabetes\", \"Type 2 diabetes\", \"Type II diabetes\"], \"name\": \"HP_0005978\", \"subclasses\": [\"obo.HP_0008205\"], \"xrefs\": [\"MSH:D003924\", \"SNOMEDCT_US:44054006\", \"UMLS:C0011860\"]}, {\"concept\": \"obo.HP_0008205\", \"label\": [\"Insulin-dependent but ketosis-resistant diabetes\"], \"iri\": \"http://purl.obolibrary.org/obo/HP_0008205\", \"synonyms\": [], \"name\": \"HP_0008205\", \"subclasses\": [], \"xrefs\": [\"UMLS:C1842404\"]}, {\"concept\": \"obo.HP_0008255\", \"label\": [\"Transient neonatal diabetes mellitus\"], \"iri\": \"http://purl.obolibrary.org/obo/HP_0008255\", \"synonyms\": [], \"name\": \"HP_0008255\", \"subclasses\": [], \"xrefs\": [\"SNOMEDCT_US:237603002\", \"UMLS:C0342273\"]}, {\"concept\": \"obo.HP_0009800\", \"label\": [\"Maternal diabetes\"], \"iri\": \"http://purl.obolibrary.org/obo/HP_0009800\", \"synonyms\": [\"Maternal diabetes\", \"gestational diabetes\"], \"name\": \"HP_0009800\", \"subclasses\": [], \"xrefs\": [\"MSH:D016640\", \"SNOMEDCT_US:11687002\", \"UMLS:C0085207\", \"UMLS:C4020778\"]}, {\"concept\": \"obo.HP_0009806\", \"label\": [\"Nephrogenic diabetes insipidus\"], \"iri\": \"http://purl.obolibrary.org/obo/HP_0009806\", \"synonyms\": [], \"name\": \"HP_0009806\", \"subclasses\": [], \"xrefs\": [\"MSH:D018500\", \"SNOMEDCT_US:111395007\", \"UMLS:C0162283\"]}, {\"concept\": \"obo.HP_0100651\", \"label\": [\"Type I diabetes mellitus\"], \"iri\": \"http://purl.obolibrary.org/obo/HP_0100651\", \"synonyms\": [\"Diabetes mellitus Type I\", \"Juvenile diabetes mellitus\", \"Type 1 diabetes\", \"Type I diabetes\"], \"name\": \"HP_0100651\", \"subclasses\": [], \"xrefs\": [\"MSH:D003922\", \"SNOMEDCT_US:46635009\", \"UMLS:C0011854\"]}]}}, {\"mode\": \"vega-lite\"});\n",
       "</script>"
      ],
      "text/plain": [
       "alt.Chart(...)"
      ]
     },
     "execution_count": 151,
     "metadata": {},
     "output_type": "execute_result"
    }
   ],
   "source": [
    "import altair as alt\n",
    "\n",
    "search_input = alt.param(\n",
    "    value='',\n",
    "    bind=alt.binding(\n",
    "        input='search',\n",
    "        placeholder=\"Diseases/symtoms\",\n",
    "        name='Search ',\n",
    "    )\n",
    ")\n",
    "alt.Chart(df.to_pandas()).mark_rect(size=60).encode(\n",
    "    x='count(synonyms):Q',\n",
    "    y='label:N',\n",
    "    # tooltip='Name:N',\n",
    "    opacity=alt.condition(\n",
    "        alt.expr.test(alt.expr.regexp(search_input, 'i'), alt.datum.label),\n",
    "        alt.value(1),\n",
    "        alt.value(0.05)\n",
    "    )\n",
    ").transform_flatten(\n",
    "    [\"label\"]\n",
    ").transform_flatten(\n",
    "    [\"synonyms\"]\n",
    ").add_params(\n",
    "    search_input\n",
    ")"
   ]
  },
  {
   "cell_type": "code",
   "execution_count": null,
   "metadata": {},
   "outputs": [],
   "source": []
  }
 ],
 "metadata": {
  "kernelspec": {
   "display_name": "data-expressions-XOHyUNvQ-py3.10",
   "language": "python",
   "name": "python3"
  },
  "language_info": {
   "codemirror_mode": {
    "name": "ipython",
    "version": 3
   },
   "file_extension": ".py",
   "mimetype": "text/x-python",
   "name": "python",
   "nbconvert_exporter": "python",
   "pygments_lexer": "ipython3",
   "version": "3.10.8"
  },
  "orig_nbformat": 4
 },
 "nbformat": 4,
 "nbformat_minor": 2
}
