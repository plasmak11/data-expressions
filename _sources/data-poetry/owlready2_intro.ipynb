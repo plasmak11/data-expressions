{
 "cells": [
  {
   "cell_type": "markdown",
   "metadata": {},
   "source": [
    "# Intro to Biomedical Ontologies: Owlready2\n",
    "\n",
    "Biomedical ontologies is generally a tough-to-approach field, starting with \"what is an ontology?\".\n",
    "\n",
    "I often reply to that with \"it's a hairball of knowledge.\" \n",
    "\n",
    "Imagine if someone/group decided to \"lets represent something close to a neuronal-connection of knowledge\".\n",
    "\n",
    "For me, I am not an ontologist (creating new ontologies). I consider myself one of the few people who can figure out how to leverage ontologies to achieve very specific biomedical and clinical tasks. "
   ]
  },
  {
   "cell_type": "code",
   "execution_count": 4,
   "metadata": {},
   "outputs": [],
   "source": [
    "import owlready2\n",
    "\n",
    "hpo = owlready2.get_ontology(\"http://purl.obolibrary.org/obo/hp.owl\").load()\n",
    "# mondo = owlready2.get_ontology(\"http://purl.obolibrary.org/obo/mondo.owl\").load()\n",
    "efo = owlready2.get_ontology(\"http://www.ebi.ac.uk/efo/efo.owl\").load()\n"
   ]
  },
  {
   "cell_type": "code",
   "execution_count": 30,
   "metadata": {},
   "outputs": [],
   "source": [
    "search_term = \"schizophrenia\"\n",
    "\n",
    "# Crude searcher\n",
    "def obo_searcher(ontology, search_term):\n",
    "    mondo_results = ontology.search(label = f\"*{search_term}*\", _case_sensitive=False)\n",
    "    data = [{\n",
    "        \"label\": x.label,\n",
    "        \"iri\": x.iri,\n",
    "        \"name\": x.name,\n",
    "        \"subclasses\": list(x.subclasses()),\n",
    "        \"xrefs\": x.hasDbXref\n",
    "    } for x in mondo_results if str(x.label)]\n",
    "\n",
    "    return (data)\n"
   ]
  },
  {
   "cell_type": "markdown",
   "metadata": {},
   "source": [
    "# Visual interface"
   ]
  },
  {
   "cell_type": "code",
   "execution_count": 31,
   "metadata": {},
   "outputs": [
    {
     "data": {
      "text/html": [
       "\n",
       "<style>\n",
       "  #altair-viz-15dcc8b90fe54e0ba1af73463df974e3.vega-embed {\n",
       "    width: 100%;\n",
       "    display: flex;\n",
       "  }\n",
       "\n",
       "  #altair-viz-15dcc8b90fe54e0ba1af73463df974e3.vega-embed details,\n",
       "  #altair-viz-15dcc8b90fe54e0ba1af73463df974e3.vega-embed details summary {\n",
       "    position: relative;\n",
       "  }\n",
       "</style>\n",
       "<div id=\"altair-viz-15dcc8b90fe54e0ba1af73463df974e3\"></div>\n",
       "<script type=\"text/javascript\">\n",
       "  var VEGA_DEBUG = (typeof VEGA_DEBUG == \"undefined\") ? {} : VEGA_DEBUG;\n",
       "  (function(spec, embedOpt){\n",
       "    let outputDiv = document.currentScript.previousElementSibling;\n",
       "    if (outputDiv.id !== \"altair-viz-15dcc8b90fe54e0ba1af73463df974e3\") {\n",
       "      outputDiv = document.getElementById(\"altair-viz-15dcc8b90fe54e0ba1af73463df974e3\");\n",
       "    }\n",
       "    const paths = {\n",
       "      \"vega\": \"https://cdn.jsdelivr.net/npm/vega@5?noext\",\n",
       "      \"vega-lib\": \"https://cdn.jsdelivr.net/npm/vega-lib?noext\",\n",
       "      \"vega-lite\": \"https://cdn.jsdelivr.net/npm/vega-lite@5.8.0?noext\",\n",
       "      \"vega-embed\": \"https://cdn.jsdelivr.net/npm/vega-embed@6?noext\",\n",
       "    };\n",
       "\n",
       "    function maybeLoadScript(lib, version) {\n",
       "      var key = `${lib.replace(\"-\", \"\")}_version`;\n",
       "      return (VEGA_DEBUG[key] == version) ?\n",
       "        Promise.resolve(paths[lib]) :\n",
       "        new Promise(function(resolve, reject) {\n",
       "          var s = document.createElement('script');\n",
       "          document.getElementsByTagName(\"head\")[0].appendChild(s);\n",
       "          s.async = true;\n",
       "          s.onload = () => {\n",
       "            VEGA_DEBUG[key] = version;\n",
       "            return resolve(paths[lib]);\n",
       "          };\n",
       "          s.onerror = () => reject(`Error loading script: ${paths[lib]}`);\n",
       "          s.src = paths[lib];\n",
       "        });\n",
       "    }\n",
       "\n",
       "    function showError(err) {\n",
       "      outputDiv.innerHTML = `<div class=\"error\" style=\"color:red;\">${err}</div>`;\n",
       "      throw err;\n",
       "    }\n",
       "\n",
       "    function displayChart(vegaEmbed) {\n",
       "      vegaEmbed(outputDiv, spec, embedOpt)\n",
       "        .catch(err => showError(`Javascript Error: ${err.message}<br>This usually means there's a typo in your chart specification. See the javascript console for the full traceback.`));\n",
       "    }\n",
       "\n",
       "    if(typeof define === \"function\" && define.amd) {\n",
       "      requirejs.config({paths});\n",
       "      require([\"vega-embed\"], displayChart, err => showError(`Error loading script: ${err.message}`));\n",
       "    } else {\n",
       "      maybeLoadScript(\"vega\", \"5\")\n",
       "        .then(() => maybeLoadScript(\"vega-lite\", \"5.8.0\"))\n",
       "        .then(() => maybeLoadScript(\"vega-embed\", \"6\"))\n",
       "        .catch(showError)\n",
       "        .then(() => displayChart(vegaEmbed));\n",
       "    }\n",
       "  })({\"config\": {\"view\": {\"continuousWidth\": 300, \"continuousHeight\": 300}}, \"data\": {\"name\": \"empty\"}, \"mark\": {\"type\": \"point\", \"size\": 60}, \"encoding\": {\"tooltip\": {\"field\": \"Name\", \"type\": \"nominal\"}, \"x\": {\"field\": \"Horsepower\", \"type\": \"quantitative\"}, \"y\": {\"field\": \"Miles_per_Gallon\", \"type\": \"quantitative\"}}, \"params\": [{\"name\": \"param_5\", \"bind\": {\"input\": \"search\", \"placeholder\": \"Search diseases/symtoms\", \"name\": \"Search \"}, \"value\": \"\"}], \"$schema\": \"https://vega.github.io/schema/vega-lite/v5.8.0.json\", \"datasets\": {\"empty\": [{}]}}, {\"mode\": \"vega-lite\"});\n",
       "</script>"
      ],
      "text/plain": [
       "alt.Chart(...)"
      ]
     },
     "execution_count": 31,
     "metadata": {},
     "output_type": "execute_result"
    }
   ],
   "source": [
    "import altair as alt\n",
    "\n",
    "\n",
    "search_input = alt.param(\n",
    "    value='',\n",
    "    bind=alt.binding(\n",
    "        input='search',\n",
    "        placeholder=\"Diseases/symtoms\",\n",
    "        name='Search ',\n",
    "    )\n",
    ")\n",
    "alt.Chart().mark_point(size=60).encode(\n",
    "    x='Horsepower:Q',\n",
    "    y='Miles_per_Gallon:Q',\n",
    "    tooltip='Name:N',\n",
    "    # opacity=alt.condition(\n",
    "    #     alt.expr.test(alt.expr.regexp(search_input, 'i'), alt.datum.Name),\n",
    "    #     alt.value(1),\n",
    "    #     alt.value(0.05)\n",
    "    # )\n",
    ").add_params(\n",
    "    search_input\n",
    ")"
   ]
  },
  {
   "cell_type": "code",
   "execution_count": 32,
   "metadata": {},
   "outputs": [],
   "source": [
    "results = obo_searcher(hpo, search_term)"
   ]
  },
  {
   "cell_type": "markdown",
   "metadata": {},
   "source": [
    "# Results: Dictionary of Ontology items"
   ]
  },
  {
   "cell_type": "code",
   "execution_count": 33,
   "metadata": {},
   "outputs": [
    {
     "data": {
      "text/plain": [
       "[{'label': ['Schizophrenia'],\n",
       "  'iri': 'http://purl.obolibrary.org/obo/HP_0100753',\n",
       "  'name': 'HP_0100753',\n",
       "  'subclasses': [],\n",
       "  'xrefs': ['MSH:D012559',\n",
       "   'SNOMEDCT_US:191526005',\n",
       "   'SNOMEDCT_US:58214004',\n",
       "   'UMLS:C0036341']},\n",
       " {'label': ['schizophrenia'],\n",
       "  'iri': 'http://purl.obolibrary.org/obo/MONDO_0005090',\n",
       "  'name': 'MONDO_0005090',\n",
       "  'subclasses': [obo.MONDO_0013696, efo.EFO_0004609],\n",
       "  'xrefs': ['DOID:5419',\n",
       "   'EFO:0000692',\n",
       "   'HP:0100753',\n",
       "   'ICD9:295',\n",
       "   'ICD9:295.8',\n",
       "   'ICD9:295.80',\n",
       "   'ICD9:295.85',\n",
       "   'ICD9:295.9',\n",
       "   'ICD9:295.90',\n",
       "   'NCIT:C3362',\n",
       "   'NIFSTD:birnlex_2104',\n",
       "   'OMIM:181500',\n",
       "   'Orphanet:3140',\n",
       "   'SCTID:58214004']},\n",
       " {'label': ['schizophrenia, susceptibility to'],\n",
       "  'iri': 'http://purl.obolibrary.org/obo/MONDO_0100182',\n",
       "  'name': 'MONDO_0100182',\n",
       "  'subclasses': [],\n",
       "  'xrefs': []},\n",
       " {'label': ['age of onset of schizophrenia'],\n",
       "  'iri': 'http://purl.obolibrary.org/obo/OBA_2001011',\n",
       "  'name': 'OBA_2001011',\n",
       "  'subclasses': [],\n",
       "  'xrefs': []},\n",
       " {'label': ['obsolete_schizophrenia'],\n",
       "  'iri': 'http://www.ebi.ac.uk/efo/EFO_0000692',\n",
       "  'name': 'EFO_0000692',\n",
       "  'subclasses': [],\n",
       "  'xrefs': ['DOID:5419',\n",
       "   'ICD10:F20',\n",
       "   'ICD9:295',\n",
       "   'ICD9:295.8',\n",
       "   'ICD9:295.85',\n",
       "   'ICD9:295.9',\n",
       "   'MeSH:D012559',\n",
       "   'MedDRA:10039626',\n",
       "   'MedDRA:10039637',\n",
       "   'MedDRA:10039638',\n",
       "   'MedDRA:10039639',\n",
       "   'MedDRA:10039640',\n",
       "   'MedDRA:10052792',\n",
       "   'NCIt:C3362',\n",
       "   'NIFSTD:birnlex_2104',\n",
       "   'OMIM:181500',\n",
       "   'OMIM:600850',\n",
       "   'OMIM:603342',\n",
       "   'OMIM:604906',\n",
       "   'OMIM:608078',\n",
       "   'OMIM:613950',\n",
       "   'OMIM:614332',\n",
       "   'OMIM:615232',\n",
       "   'OMIM:617629',\n",
       "   'SNOMEDCT:58214004']},\n",
       " {'label': ['treatment refractory schizophrenia'],\n",
       "  'iri': 'http://www.ebi.ac.uk/efo/EFO_0004609',\n",
       "  'name': 'EFO_0004609',\n",
       "  'subclasses': [],\n",
       "  'xrefs': ['MONDO:0005414']},\n",
       " {'label': ['schizophrenia symptom severity measurement'],\n",
       "  'iri': 'http://www.ebi.ac.uk/efo/EFO_0007927',\n",
       "  'name': 'EFO_0007927',\n",
       "  'subclasses': [],\n",
       "  'xrefs': ['PMID:27846195']}]"
      ]
     },
     "execution_count": 33,
     "metadata": {},
     "output_type": "execute_result"
    }
   ],
   "source": [
    "results"
   ]
  },
  {
   "cell_type": "markdown",
   "metadata": {},
   "source": [
    "## Check one concept"
   ]
  },
  {
   "cell_type": "code",
   "execution_count": 34,
   "metadata": {},
   "outputs": [
    {
     "data": {
      "text/plain": [
       "{'label': ['Schizophrenia'],\n",
       " 'iri': 'http://purl.obolibrary.org/obo/HP_0100753',\n",
       " 'name': 'HP_0100753',\n",
       " 'subclasses': [],\n",
       " 'xrefs': ['MSH:D012559',\n",
       "  'SNOMEDCT_US:191526005',\n",
       "  'SNOMEDCT_US:58214004',\n",
       "  'UMLS:C0036341']}"
      ]
     },
     "execution_count": 34,
     "metadata": {},
     "output_type": "execute_result"
    }
   ],
   "source": [
    "results[0]"
   ]
  },
  {
   "cell_type": "markdown",
   "metadata": {},
   "source": [
    "## Things to Note:\n",
    "\n",
    "- `label`: actually returns a list of the synonyms related\n",
    "- `iri`: unique ID for this concept\n",
    "- `name`: concept ID, Even though this is an HPO term, sometimes ontologies can reference external ontologies as part of the \"semantic web\" reference.\n",
    "- `xrefs`: Generally, `owlready2` has poor documentation, but it's a single person(?) effort (and I never personally contributed) for not the most approachable field, so give him some slack. But the oddly named `.hasDbXref` returns a list of external cross-walks, which is one of the more useful things to know."
   ]
  },
  {
   "cell_type": "code",
   "execution_count": 35,
   "metadata": {},
   "outputs": [],
   "source": [
    "def serialize_obo_subclass(item):\n",
    "    subclasses = item['subclasses'] \n",
    "    if len(subclasses) == 0:\n",
    "        return item\n",
    "    else: \n",
    "        serialized = [{\n",
    "            \"label\": subclass.label,\n",
    "            \"iri\": subclass.iri,\n",
    "            \"subclasses\": [x.name for x in list(subclass.subclasses())],\n",
    "            \"xrefs\": subclass.hasDbXref,\n",
    "        } for subclass in subclasses]\n",
    "        return serialized"
   ]
  },
  {
   "cell_type": "code",
   "execution_count": 36,
   "metadata": {},
   "outputs": [],
   "source": [
    "# serialized_result = [serialize_obo_subclass(item) for item in items]"
   ]
  },
  {
   "cell_type": "code",
   "execution_count": 37,
   "metadata": {},
   "outputs": [
    {
     "ename": "NameError",
     "evalue": "name 'serialized_result' is not defined",
     "output_type": "error",
     "traceback": [
      "\u001b[0;31m---------------------------------------------------------------------------\u001b[0m",
      "\u001b[0;31mNameError\u001b[0m                                 Traceback (most recent call last)",
      "Cell \u001b[0;32mIn[37], line 1\u001b[0m\n\u001b[0;32m----> 1\u001b[0m serialized_result[\u001b[39m8\u001b[39m]\n",
      "\u001b[0;31mNameError\u001b[0m: name 'serialized_result' is not defined"
     ]
    }
   ],
   "source": [
    "serialized_result[8]"
   ]
  },
  {
   "cell_type": "markdown",
   "metadata": {},
   "source": []
  }
 ],
 "metadata": {
  "kernelspec": {
   "display_name": "data-expressions-XOHyUNvQ-py3.10",
   "language": "python",
   "name": "python3"
  },
  "language_info": {
   "codemirror_mode": {
    "name": "ipython",
    "version": 3
   },
   "file_extension": ".py",
   "mimetype": "text/x-python",
   "name": "python",
   "nbconvert_exporter": "python",
   "pygments_lexer": "ipython3",
   "version": "3.10.8"
  },
  "orig_nbformat": 4
 },
 "nbformat": 4,
 "nbformat_minor": 2
}
