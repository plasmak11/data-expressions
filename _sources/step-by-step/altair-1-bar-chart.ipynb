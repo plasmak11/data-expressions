{
 "cells": [
  {
   "cell_type": "markdown",
   "metadata": {},
   "source": [
    "# Bar Chart"
   ]
  },
  {
   "cell_type": "code",
   "execution_count": null,
   "metadata": {},
   "outputs": [],
   "source": [
    "import altair as alt\n",
    "from vega_datasets import data\n",
    "\n",
    "source = data.disasters.url\n",
    "\n",
    "alt.Chart(source).transform_filter(\n",
    "    alt.datum.Entity != 'All natural disasters'\n",
    ").mark_circle(\n",
    "    opacity=0.8,\n",
    "    stroke='black',\n",
    "    strokeWidth=1,\n",
    "    strokeOpacity=0.4\n",
    ").encode(\n",
    "    x=alt.X('Year:T', title=None, scale=alt.Scale(domain=['1899','2018'])),\n",
    "    y=alt.Y(\n",
    "        'Entity:N',\n",
    "        sort=alt.EncodingSortField(field=\"Deaths\", op=\"sum\", order='descending'),\n",
    "        title=None\n",
    "    ),\n",
    "    size=alt.Size('Deaths:Q',\n",
    "        scale=alt.Scale(range=[0, 2500]),\n",
    "        legend=alt.Legend(title='Deaths', clipHeight=30, format='s')\n",
    "    ),\n",
    "    color=alt.Color('Entity:N', legend=None),\n",
    "    tooltip=[\n",
    "        \"Entity:N\",\n",
    "        alt.Tooltip(\"Year:T\", format='%Y'),\n",
    "        alt.Tooltip(\"Deaths:Q\", format='~s')\n",
    "    ],\n",
    ").properties(\n",
    "    width=450,\n",
    "    height=320,\n",
    "    title=alt.Title(\n",
    "        text=\"Global Deaths from Natural Disasters (1900-2017)\",\n",
    "        subtitle=\"The size of the bubble represents the total death count per year, by type of disaster\",\n",
    "        anchor='start'\n",
    "    )\n",
    ").configure_axisY(\n",
    "    domain=False,\n",
    "    ticks=False,\n",
    "    offset=10\n",
    ").configure_axisX(\n",
    "    grid=False,\n",
    ").configure_view(\n",
    "    stroke=None\n",
    ")"
   ]
  }
 ],
 "metadata": {
  "kernelspec": {
   "display_name": "data-expressions-XOHyUNvQ-py3.10",
   "language": "python",
   "name": "python3"
  },
  "language_info": {
   "codemirror_mode": {
    "name": "ipython",
    "version": 3
   },
   "file_extension": ".py",
   "mimetype": "text/x-python",
   "name": "python",
   "nbconvert_exporter": "python",
   "pygments_lexer": "ipython3",
   "version": "3.10.8"
  },
  "orig_nbformat": 4
 },
 "nbformat": 4,
 "nbformat_minor": 2
}
